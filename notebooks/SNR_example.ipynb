{
 "cells": [
  {
   "cell_type": "markdown",
   "id": "eb945ff3-e95b-4a01-8f1c-32f306f45423",
   "metadata": {},
   "source": [
    "## Receiver Noise: Example"
   ]
  },
  {
   "cell_type": "markdown",
   "id": "bebcda0c-ce95-4ede-b9f4-f56ee44a13b5",
   "metadata": {},
   "source": [
    "A GSM receiver has a bandwidth of 200kHz and requires that its input SNR is at least 10dB when the input signal is -104dBm."
   ]
  },
  {
   "cell_type": "markdown",
   "id": "81223625-56d9-4a26-8b35-1b1a8bda127f",
   "metadata": {},
   "source": [
    "* What is the Termal noise at the receiver ?"
   ]
  },
  {
   "cell_type": "code",
   "execution_count": 1,
   "id": "15d0a35d-33c8-4f16-9236-6d7e1d89a7bb",
   "metadata": {},
   "outputs": [
    {
     "data": {
      "text/plain": [
       "200000.0"
      ]
     },
     "execution_count": 1,
     "metadata": {},
     "output_type": "execute_result"
    }
   ],
   "source": [
    "B=200e3 # hz"
   ]
  },
  {
   "cell_type": "code",
   "execution_count": 2,
   "id": "2e03fe70-5c04-449b-9675-77dfcccfa162",
   "metadata": {},
   "outputs": [
    {
     "name": "stdout",
     "output_type": "stream",
     "text": [
      "%f-121.0\n"
     ]
    }
   ],
   "source": [
    "N₀ = -174 + 10 * log10(B); N₀ = round(N₀, digits=1)\n",
    "println(\"%f\",N₀)"
   ]
  },
  {
   "cell_type": "markdown",
   "id": "5255d9e1-e5de-4057-a936-a109540af563",
   "metadata": {},
   "source": [
    "* What is the maximum permitted value of the receiver noise figure?"
   ]
  },
  {
   "cell_type": "code",
   "execution_count": 3,
   "id": "6f7e8acf-b507-4cfa-84a7-c17e004f346f",
   "metadata": {},
   "outputs": [
    {
     "data": {
      "text/plain": [
       "300"
      ]
     },
     "execution_count": 3,
     "metadata": {},
     "output_type": "execute_result"
    }
   ],
   "source": [
    "T₀ = 300"
   ]
  },
  {
   "cell_type": "code",
   "execution_count": 4,
   "id": "7925e0fd-710c-4100-8b2c-8c4dfee0f01d",
   "metadata": {},
   "outputs": [
    {
     "data": {
      "text/plain": [
       "300"
      ]
     },
     "execution_count": 4,
     "metadata": {},
     "output_type": "execute_result"
    }
   ],
   "source": [
    "T₀ = 300 "
   ]
  },
  {
   "cell_type": "markdown",
   "id": "61acdb5a-8be9-4458-95d4-fd0dd836949c",
   "metadata": {},
   "source": [
    "<img src=images/RN_example_1.png width='50%' height='50%' > </img>"
   ]
  },
  {
   "cell_type": "markdown",
   "id": "fd18d554-3a44-4a7a-9fba-d49bee6a3b0f",
   "metadata": {},
   "source": [
    "* What is the equivalent input noise temperature of such a receiver?"
   ]
  },
  {
   "cell_type": "markdown",
   "id": "95007bf1-a134-4309-84ec-bb4afa7616f3",
   "metadata": {},
   "source": [
    "<img src=images/RN_example_2.png width='50%' height='50%' > </img>"
   ]
  },
  {
   "cell_type": "code",
   "execution_count": null,
   "id": "2ad19703-faf9-42b4-bba9-0ba33bd6abd0",
   "metadata": {},
   "outputs": [],
   "source": []
  }
 ],
 "metadata": {
  "kernelspec": {
   "display_name": "Julia 1.9.3",
   "language": "julia",
   "name": "julia-1.9"
  },
  "language_info": {
   "file_extension": ".jl",
   "mimetype": "application/julia",
   "name": "julia",
   "version": "1.10.2"
  }
 },
 "nbformat": 4,
 "nbformat_minor": 5
}
