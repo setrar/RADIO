{
 "cells": [
  {
   "cell_type": "code",
   "execution_count": 1,
   "id": "8102cb61-cd9b-4b47-aaec-79f7e19d2dd4",
   "metadata": {},
   "outputs": [],
   "source": [
    "using Unitful"
   ]
  },
  {
   "cell_type": "markdown",
   "id": "a3dc88e3-54da-457b-a180-028052177c3f",
   "metadata": {},
   "source": [
    "### Decibels"
   ]
  },
  {
   "cell_type": "code",
   "execution_count": 2,
   "id": "16797522-d78e-48e7-a13a-46f54e279775",
   "metadata": {},
   "outputs": [
    {
     "data": {
      "text/plain": [
       "3 dB"
      ]
     },
     "execution_count": 2,
     "metadata": {},
     "output_type": "execute_result"
    }
   ],
   "source": [
    "3u\"dB\""
   ]
  },
  {
   "cell_type": "code",
   "execution_count": 3,
   "id": "d4c1d2fe-f5be-424f-b442-84095233c36e",
   "metadata": {},
   "outputs": [
    {
     "data": {
      "text/plain": [
       "3.0 dBm"
      ]
     },
     "execution_count": 3,
     "metadata": {},
     "output_type": "execute_result"
    }
   ],
   "source": [
    "3u\"dBm\""
   ]
  },
  {
   "cell_type": "code",
   "execution_count": 4,
   "id": "71c5297d-6cea-4d07-8f49-560607f71987",
   "metadata": {},
   "outputs": [
    {
     "data": {
      "text/plain": [
       "true"
      ]
     },
     "execution_count": 4,
     "metadata": {},
     "output_type": "execute_result"
    }
   ],
   "source": [
    "u\"dB\"*3 === 3u\"dB\""
   ]
  },
  {
   "cell_type": "code",
   "execution_count": 5,
   "id": "b9f610af-78f7-4c5a-8ace-39aceca01189",
   "metadata": {},
   "outputs": [],
   "source": [
    "using Unitful: mW, V"
   ]
  },
  {
   "cell_type": "code",
   "execution_count": 6,
   "id": "4309ca40-bd04-47a4-b9ee-214167f95f30",
   "metadata": {},
   "outputs": [
    {
     "data": {
      "text/plain": [
       "10.0 dBm"
      ]
     },
     "execution_count": 6,
     "metadata": {},
     "output_type": "execute_result"
    }
   ],
   "source": [
    "@dB 10mW/mW"
   ]
  },
  {
   "cell_type": "code",
   "execution_count": 7,
   "id": "4379e891-a1ef-4f0d-8cec-8ef38d717f2e",
   "metadata": {},
   "outputs": [
    {
     "data": {
      "text/plain": [
       "20.0 dBV"
      ]
     },
     "execution_count": 7,
     "metadata": {},
     "output_type": "execute_result"
    }
   ],
   "source": [
    "@dB 10V/V"
   ]
  },
  {
   "cell_type": "markdown",
   "id": "43849bc5-ce7e-4a73-ac18-3c06021a0853",
   "metadata": {},
   "source": [
    "# References"
   ]
  },
  {
   "cell_type": "markdown",
   "id": "91874e1e-180f-4546-b5ac-6373a807b195",
   "metadata": {},
   "source": [
    "- [ ] [Logarithmic Scales](https://docs.sciml.ai/Unitful/stable/logarithm/#Logarithmic-scales)"
   ]
  },
  {
   "cell_type": "code",
   "execution_count": null,
   "id": "89dfa976-0dea-4075-b7df-cdf8aeca85cb",
   "metadata": {},
   "outputs": [],
   "source": []
  }
 ],
 "metadata": {
  "kernelspec": {
   "display_name": "Julia 1.9.3",
   "language": "julia",
   "name": "julia-1.9"
  },
  "language_info": {
   "file_extension": ".jl",
   "mimetype": "application/julia",
   "name": "julia",
   "version": "1.10.2"
  }
 },
 "nbformat": 4,
 "nbformat_minor": 5
}
