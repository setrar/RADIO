{
 "cells": [
  {
   "cell_type": "markdown",
   "id": "4d470e63-962d-427a-a9b1-90dec3686b5f",
   "metadata": {},
   "source": [
    "## Cascading several elements"
   ]
  },
  {
   "cell_type": "markdown",
   "id": "5a2147c4-ac37-4c0c-ba70-e8a5eb1d7dab",
   "metadata": {},
   "source": [
    "##### A receiver is made up of three main elements: a preamplifier, a mixer, and an IF amplifier with noise figures of 3, 6, and 10 dB.\n"
   ]
  },
  {
   "cell_type": "markdown",
   "id": "5f6e4f95-2db9-4e02-8cd8-cf95fd5a7519",
   "metadata": {},
   "source": [
    "---\n",
    "– If the overall gain of the receiver is 30 dB, and the IF amplifier gain is 10 dB, \n",
    "\n",
    "What is the minimum gain of the preamplifier to achieve an overall noise figure of no more that 5 dB?"
   ]
  },
  {
   "cell_type": "code",
   "execution_count": 1,
   "id": "93c9737d-46f9-42dc-b75e-e20c3785cc81",
   "metadata": {},
   "outputs": [
    {
     "name": "stdout",
     "output_type": "stream",
     "text": [
      "Optimized G1 in linear scale: 2.6315606874740136\n",
      "Optimized G1 in dB: 4.202133899076101\n"
     ]
    }
   ],
   "source": [
    "using Optim\n",
    "\n",
    "# Given parameters in dB\n",
    "NF_1_dB = 3\n",
    "NF_2_dB = 6\n",
    "NF_3_dB = 10\n",
    "NF_total_max_dB = 5\n",
    "G_IF_dB = 10\n",
    "G_overall_dB = 30\n",
    "\n",
    "# Convert dB to linear scale for noise figures and gains\n",
    "NF_1 = 10^(NF_1_dB / 10)\n",
    "NF_2 = 10^(NF_2_dB / 10)\n",
    "NF_3 = 10^(NF_3_dB / 10)\n",
    "NF_total_max = 10^(NF_total_max_dB / 10)\n",
    "G_IF = 10^(G_IF_dB / 10)\n",
    "G_overall = 10^(G_overall_dB / 10)\n",
    "\n",
    "# Function to calculate total noise figure for given G1 in linear scale\n",
    "function calculate_NF_total(G1_linear)\n",
    "    G_1_G_2 = G_overall / G_IF  # Total gain divided by IF amplifier gain gives product of G1 and G2\n",
    "    # Assuming G2 is fixed and we adjust G1, calculate total noise figure (linear scale)\n",
    "    NF_total = NF_1 + (NF_2 - 1)/G1_linear + (NF_3 - 1)/(G1_linear * G_1_G_2)\n",
    "    return NF_total\n",
    "end\n",
    "\n",
    "# Objective function to minimize: difference between calculated NF_total and target NF_total_max\n",
    "function objective_function(G1_linear)\n",
    "    NF_total = calculate_NF_total(G1_linear)\n",
    "    return (NF_total - NF_total_max)^2  # Squared difference for minimization\n",
    "end\n",
    "\n",
    "# Initial guess for G1_linear (since we don't have specific info, start with a reasonable guess)\n",
    "initial_guess = 10  # Linear scale\n",
    "\n",
    "# Use an optimization library to minimize the objective function and find optimal G1\n",
    "result = optimize(objective_function, 1, 1000)  # Adjust bounds (1, 1000) as needed based on expected G1 range\n",
    "\n",
    "# Extract the optimized G1 value\n",
    "G1_optimized_linear = Optim.minimizer(result)\n",
    "G1_optimized_dB = 10 * log10(G1_optimized_linear)\n",
    "\n",
    "println(\"Optimized G1 in linear scale: \", G1_optimized_linear)\n",
    "println(\"Optimized G1 in dB: \", G1_optimized_dB)\n"
   ]
  },
  {
   "cell_type": "markdown",
   "id": "74abe0b5-cbe0-4041-889f-ecdbf5f22b6e",
   "metadata": {},
   "source": [
    "--- \n",
    "– If its gain is set to this minimum, \n",
    "\n",
    "What would the system noise figure become if the noise figure of the IF amplifier is increased to 20 dB?"
   ]
  },
  {
   "cell_type": "code",
   "execution_count": 2,
   "id": "f32d7525-4da8-4146-b58d-5cd8d1cfdda6",
   "metadata": {},
   "outputs": [
    {
     "name": "stdout",
     "output_type": "stream",
     "text": [
      "New system noise figure with updated IF amplifier noise figure: 3.7882825438470857 dB\n"
     ]
    }
   ],
   "source": [
    "# Define given parameters\n",
    "NF_1_dB = 3  # Preamplifier noise figure in dB\n",
    "NF_2_dB = 6  # Mixer noise figure in dB\n",
    "NF_3_new_dB = 20  # Updated IF amplifier noise figure in dB\n",
    "G_overall_dB = 30  # Overall system gain in dB\n",
    "G_IF_dB = 10  # IF amplifier gain in dB\n",
    "\n",
    "# Convert dB to linear scale for noise figures and gains\n",
    "NF_1 = 10^(NF_1_dB / 10)\n",
    "NF_2 = 10^(NF_2_dB / 10)\n",
    "NF_3_new = 10^(NF_3_new_dB / 10)\n",
    "G_overall = 10^(G_overall_dB / 10)\n",
    "G_IF = 10^(G_IF_dB / 10)\n",
    "\n",
    "# Placeholder for the optimized G1 value in linear scale from previous optimization\n",
    "# Replace this with the actual value you found\n",
    "G1_optimized_linear = 10  # This is a placeholder, replace with actual optimized G1 value\n",
    "\n",
    "# Calculate G1 * G2 based on the overall gain and IF amplifier gain\n",
    "G_1_G_2 = G_overall / G_IF\n",
    "\n",
    "# Function to calculate the total noise figure with the updated NF_3\n",
    "function calculate_total_noise_figure(NF_1, NF_2, NF_3_new, G1, G_1_G_2)\n",
    "    # Total noise figure calculation using Friis formula\n",
    "    NF_total = NF_1 + (NF_2 - 1) / G1 + (NF_3_new - 1) / (G1 * G_1_G_2)\n",
    "    return 10 * log10(NF_total)  # Convert the total noise figure back to dB\n",
    "end\n",
    "\n",
    "# Calculate the new system noise figure with the updated IF amplifier noise figure\n",
    "NF_total_new_dB = calculate_total_noise_figure(NF_1, NF_2, NF_3_new, G1_optimized_linear, G_1_G_2)\n",
    "\n",
    "println(\"New system noise figure with updated IF amplifier noise figure: \", NF_total_new_dB, \" dB\")\n"
   ]
  },
  {
   "cell_type": "code",
   "execution_count": null,
   "id": "8be256a3-2f14-42b5-95d6-80b0ee1a3af7",
   "metadata": {},
   "outputs": [],
   "source": []
  }
 ],
 "metadata": {
  "kernelspec": {
   "display_name": "Julia 1.9.3",
   "language": "julia",
   "name": "julia-1.9"
  },
  "language_info": {
   "file_extension": ".jl",
   "mimetype": "application/julia",
   "name": "julia",
   "version": "1.10.2"
  }
 },
 "nbformat": 4,
 "nbformat_minor": 5
}
