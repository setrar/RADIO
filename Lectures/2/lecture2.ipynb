{
 "cells": [
  {
   "cell_type": "code",
   "execution_count": 4,
   "id": "2c720f59-2bd8-456f-84e2-9e9a52be18e1",
   "metadata": {},
   "outputs": [
    {
     "data": {
      "text/plain": [
       "3-element Vector{Tuple{Int64, Int64}}:\n",
       " (0, 1)\n",
       " (3, 2)\n",
       " (6, 4)"
      ]
     },
     "execution_count": 4,
     "metadata": {},
     "output_type": "execute_result"
    }
   ],
   "source": [
    "dB = [ (0,1), (3,2), (6,4) ]"
   ]
  },
  {
   "cell_type": "code",
   "execution_count": 8,
   "id": "2aa56e4c-c11e-47e6-ac20-92b797ae1c0e",
   "metadata": {},
   "outputs": [
    {
     "data": {
      "text/plain": [
       "4.3"
      ]
     },
     "execution_count": 8,
     "metadata": {},
     "output_type": "execute_result"
    }
   ],
   "source": [
    "λ = 4.3"
   ]
  },
  {
   "cell_type": "code",
   "execution_count": 9,
   "id": "86e91ef9-6dcd-4aca-9751-1c643930b78e",
   "metadata": {},
   "outputs": [
    {
     "data": {
      "text/plain": [
       "2.15"
      ]
     },
     "execution_count": 9,
     "metadata": {},
     "output_type": "execute_result"
    }
   ],
   "source": [
    "dBᵢ = λ/2"
   ]
  },
  {
   "cell_type": "code",
   "execution_count": null,
   "id": "2f250ed3-def2-4371-8814-428da75b388f",
   "metadata": {},
   "outputs": [],
   "source": []
  }
 ],
 "metadata": {
  "kernelspec": {
   "display_name": "Julia 1.9.3",
   "language": "julia",
   "name": "julia-1.9"
  },
  "language_info": {
   "file_extension": ".jl",
   "mimetype": "application/julia",
   "name": "julia",
   "version": "1.10.2"
  }
 },
 "nbformat": 4,
 "nbformat_minor": 5
}
