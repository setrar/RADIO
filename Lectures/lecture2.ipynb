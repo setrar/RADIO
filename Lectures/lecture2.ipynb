{
 "cells": [
  {
   "cell_type": "code",
   "execution_count": 1,
   "id": "2c720f59-2bd8-456f-84e2-9e9a52be18e1",
   "metadata": {},
   "outputs": [
    {
     "data": {
      "text/plain": [
       "3-element Vector{Tuple{Int64, Int64}}:\n",
       " (0, 1)\n",
       " (3, 2)\n",
       " (6, 4)"
      ]
     },
     "execution_count": 1,
     "metadata": {},
     "output_type": "execute_result"
    }
   ],
   "source": [
    "dB = [ (0,1), (3,2), (6,4) ]"
   ]
  },
  {
   "cell_type": "code",
   "execution_count": 2,
   "id": "2aa56e4c-c11e-47e6-ac20-92b797ae1c0e",
   "metadata": {},
   "outputs": [
    {
     "data": {
      "text/plain": [
       "4.3"
      ]
     },
     "execution_count": 2,
     "metadata": {},
     "output_type": "execute_result"
    }
   ],
   "source": [
    "λ = 4.3"
   ]
  },
  {
   "cell_type": "code",
   "execution_count": 3,
   "id": "86e91ef9-6dcd-4aca-9751-1c643930b78e",
   "metadata": {},
   "outputs": [
    {
     "data": {
      "text/plain": [
       "2.15"
      ]
     },
     "execution_count": 3,
     "metadata": {},
     "output_type": "execute_result"
    }
   ],
   "source": [
    "dBᵢ = λ/2"
   ]
  },
  {
   "cell_type": "code",
   "execution_count": 4,
   "id": "2f250ed3-def2-4371-8814-428da75b388f",
   "metadata": {},
   "outputs": [
    {
     "data": {
      "text/plain": [
       "#1 (generic function with 1 method)"
      ]
     },
     "execution_count": 4,
     "metadata": {},
     "output_type": "execute_result"
    }
   ],
   "source": [
    "kelvin_to_celsius = kelvin -> kelvin - 273.15"
   ]
  },
  {
   "cell_type": "code",
   "execution_count": 5,
   "id": "b97a4b1a-08c6-4e17-90ac-096656165e36",
   "metadata": {},
   "outputs": [
    {
     "data": {
      "text/plain": [
       "26.850000000000023"
      ]
     },
     "execution_count": 5,
     "metadata": {},
     "output_type": "execute_result"
    }
   ],
   "source": [
    "# Test the anonymous function with a sample value\n",
    "kelvin_to_celsius(300)\n"
   ]
  },
  {
   "cell_type": "markdown",
   "id": "7699a708-3bc0-4058-9075-24e94e57b55b",
   "metadata": {},
   "source": [
    "### Thermal Noise"
   ]
  },
  {
   "cell_type": "code",
   "execution_count": 6,
   "id": "7d6eda7f-f0f5-4c51-a7fc-340fbe26779a",
   "metadata": {},
   "outputs": [
    {
     "data": {
      "text/plain": [
       "-174"
      ]
     },
     "execution_count": 6,
     "metadata": {},
     "output_type": "execute_result"
    }
   ],
   "source": [
    "N₀ = -174"
   ]
  },
  {
   "cell_type": "code",
   "execution_count": 7,
   "id": "dfb8ddf2-5f4b-435a-bdf0-dc4624dbee60",
   "metadata": {},
   "outputs": [
    {
     "data": {
      "text/plain": [
       "1000.0"
      ]
     },
     "execution_count": 7,
     "metadata": {},
     "output_type": "execute_result"
    }
   ],
   "source": [
    "kHz = 1e3"
   ]
  },
  {
   "cell_type": "code",
   "execution_count": 8,
   "id": "9dc89946-631d-43f4-b2b7-a6c83d55415b",
   "metadata": {},
   "outputs": [
    {
     "data": {
      "text/plain": [
       "200000.0"
      ]
     },
     "execution_count": 8,
     "metadata": {},
     "output_type": "execute_result"
    }
   ],
   "source": [
    "B = 200kHz # in Hz"
   ]
  },
  {
   "cell_type": "code",
   "execution_count": 12,
   "id": "72204d8b-0c34-47ad-9fe8-da41cd1110c1",
   "metadata": {},
   "outputs": [
    {
     "data": {
      "text/plain": [
       "-121.0"
      ]
     },
     "execution_count": 12,
     "metadata": {},
     "output_type": "execute_result"
    }
   ],
   "source": [
    "Pₙ = round(N₀ + 10 * log10(B), digits = 1)"
   ]
  },
  {
   "cell_type": "code",
   "execution_count": 10,
   "id": "aefbea1f-7c19-46f7-9ba7-e2cbec0f3983",
   "metadata": {},
   "outputs": [
    {
     "data": {
      "text/plain": [
       "1.0e6"
      ]
     },
     "execution_count": 10,
     "metadata": {},
     "output_type": "execute_result"
    }
   ],
   "source": [
    "1e3kHz"
   ]
  },
  {
   "cell_type": "code",
   "execution_count": 11,
   "id": "d47e6ff7-927f-4ed4-ae2c-9261e6aa55c5",
   "metadata": {},
   "outputs": [
    {
     "data": {
      "text/plain": [
       "1.0e7"
      ]
     },
     "execution_count": 11,
     "metadata": {},
     "output_type": "execute_result"
    }
   ],
   "source": [
    "1e4kHz"
   ]
  },
  {
   "cell_type": "markdown",
   "id": "abb8751b-c04f-4830-a25b-2e3663335eb1",
   "metadata": {},
   "source": [
    "### Friis Formula"
   ]
  },
  {
   "cell_type": "markdown",
   "id": "697d6149-6c20-41ee-be4b-fd75382c94d4",
   "metadata": {},
   "source": [
    "The Friis Transmission Equation is used to calculate the power received by one antenna under idealized conditions given another antenna some distance away is transmitting. It's especially useful in free space or clear line-of-sight radio communications. The formula is given by:\n",
    "\n",
    "\\[P_r = \\frac{P_t G_t G_r \\lambda^2}{(4 \\pi R)^2}\\]\n",
    "\n",
    "where:\n",
    "- \\(P_r\\) is the power received,\n",
    "- \\(P_t\\) is the power transmitted,\n",
    "- \\(G_t\\) is the gain of the transmitting antenna,\n",
    "- \\(G_r\\) is the gain of the receiving antenna,\n",
    "- \\(\\lambda\\) is the wavelength of the signal, and\n",
    "- \\(R\\) is the distance between the antennas.\n",
    "\n",
    "### Example Calculation\n",
    "\n",
    "Let's calculate an example where:\n",
    "- \\(P_t = 100\\) watts (the power of the transmitting antenna),\n",
    "- \\(G_t = 2\\) (the gain of the transmitting antenna, in linear scale),\n",
    "- \\(G_r = 2\\) (the gain of the receiving antenna, in linear scale),\n",
    "- \\(\\lambda = 0.3\\) meters (corresponding to a frequency of 1 GHz, since \\(\\lambda = \\frac{c}{f}\\) and \\(c \\approx 3 \\times 10^8\\) m/s),\n",
    "- \\(R = 1000\\) meters (the distance between the antennas).\n",
    "\n",
    "We'll calculate \\(P_r\\), the power received, using these values.\n",
    "\n",
    "Using the Friis Transmission Equation with the specified values, the power received (\\(P_r\\)) is approximately \\(2.28 \\times 10^{-7}\\) watts or 228 nanowatts. This example illustrates how even with substantial gains on both transmitting and receiving antennas, the power received over a distance of 1000 meters drops significantly due to the \\((4\\pi R)^2\\) term in the denominator, emphasizing the impact of distance on signal strength in free-space radio communication."
   ]
  },
  {
   "cell_type": "code",
   "execution_count": 13,
   "id": "5c206f48-715d-4bb4-a963-5f74b29087b8",
   "metadata": {},
   "outputs": [
    {
     "data": {
      "text/plain": [
       "2.2797266319526001e-7"
      ]
     },
     "execution_count": 13,
     "metadata": {},
     "output_type": "execute_result"
    }
   ],
   "source": [
    "# Constants for the example calculation\n",
    "Pt = 100  # power transmitted in watts\n",
    "Gt = 2.0  # gain of the transmitting antenna\n",
    "Gr = 2.0  # gain of the receiving antenna\n",
    "λ = 0.3  # wavelength in meters\n",
    "R = 1000.0  # distance between antennas in meters\n",
    "\n"
   ]
  },
  {
   "cell_type": "code",
   "execution_count": null,
   "id": "c8ef6812-763c-464d-9a0e-1755834abeb7",
   "metadata": {},
   "outputs": [],
   "source": [
    "# Friis Transmission Equation\n",
    "Pr = (Pt * Gt * Gr * λ^2) / ((4 * π * R)^2)\n",
    "\n",
    "Pr\n"
   ]
  },
  {
   "cell_type": "code",
   "execution_count": 14,
   "id": "ad273b87-e2c7-4e99-b199-4f2e89528487",
   "metadata": {},
   "outputs": [
    {
     "data": {
      "text/plain": [
       "1024"
      ]
     },
     "execution_count": 14,
     "metadata": {},
     "output_type": "execute_result"
    }
   ],
   "source": [
    "kb = 1024"
   ]
  },
  {
   "cell_type": "code",
   "execution_count": 18,
   "id": "a3ef7fe6-a107-448b-831d-62c6550c2406",
   "metadata": {},
   "outputs": [
    {
     "data": {
      "text/plain": [
       "1048576"
      ]
     },
     "execution_count": 18,
     "metadata": {},
     "output_type": "execute_result"
    }
   ],
   "source": [
    "Mb = kb^2"
   ]
  },
  {
   "cell_type": "code",
   "execution_count": 20,
   "id": "e668610b-ee7e-48d4-8f4e-a1954ac12bf7",
   "metadata": {},
   "outputs": [
    {
     "ename": "LoadError",
     "evalue": "UndefVarError: `s` not defined",
     "output_type": "error",
     "traceback": [
      "UndefVarError: `s` not defined",
      "",
      "Stacktrace:",
      " [1] top-level scope",
      "   @ In[20]:1"
     ]
    }
   ],
   "source": [
    "7Mb"
   ]
  },
  {
   "cell_type": "code",
   "execution_count": null,
   "id": "72f452d3-ab2f-4125-85a7-062cadae765a",
   "metadata": {},
   "outputs": [],
   "source": []
  }
 ],
 "metadata": {
  "kernelspec": {
   "display_name": "Julia 1.9.3",
   "language": "julia",
   "name": "julia-1.9"
  },
  "language_info": {
   "file_extension": ".jl",
   "mimetype": "application/julia",
   "name": "julia",
   "version": "1.10.2"
  }
 },
 "nbformat": 4,
 "nbformat_minor": 5
}
