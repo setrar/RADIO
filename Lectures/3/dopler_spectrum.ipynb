{
 "cells": [
  {
   "cell_type": "markdown",
   "id": "13ffb28b-06ee-4c2e-8932-8eccd2494604",
   "metadata": {},
   "source": [
    "What is the Clarke's spectrum? (Dopler Spectrum)"
   ]
  },
  {
   "cell_type": "markdown",
   "id": "e40c1f2a-75ee-4674-9b12-15b94523959b",
   "metadata": {},
   "source": [
    "Clarke's spectrum refers to a model developed by Robert H. Clarke in the 1960s to describe the statistical properties of the radio signals received by a mobile antenna in a multipath scattering environment, typical of urban areas or any environment with numerous reflective surfaces. This model is particularly relevant in mobile communications to simulate and analyze the effects of multipath propagation on signal characteristics.\n",
    "\n",
    "Clarke's model assumes that a large number of scattered waves, arriving from all directions, superimpose at the receiver. These waves, having different amplitudes and phases, create a signal with rapidly changing amplitude and phase, known as fast fading or Rayleigh fading when there is no line-of-sight component.\n",
    "\n",
    "### Mathematical Description\n",
    "\n",
    "The key feature of Clarke's spectrum, also known as the Clarke's fading model or Rayleigh fading model, is its Doppler spectrum. This Doppler spectrum characterizes the frequency spread introduced to the signal due to the relative motion between the transmitter, the scattering objects, and the receiver. The mathematical representation of Clarke's Doppler spectrum is a U-shaped distribution given by:\n",
    "\n",
    "\\[\n",
    "S(f) = \\frac{1}{\\pi f_{m} \\sqrt{1 - \\left(\\frac{f}{f_{m}}\\right)^2}} \\quad \\text{for} \\quad |f| \\leq f_{m}\n",
    "\\]\n",
    "\n",
    "where:\n",
    "- \\(S(f)\\) is the spectral density of the fading signal at frequency \\(f\\),\n",
    "- \\(f_{m}\\) is the maximum Doppler shift, which depends on the velocity of the mobile receiver and the carrier frequency of the transmitted signal. It is defined as \\(f_{m} = \\frac{v}{\\lambda}\\) where \\(v\\) is the speed of the receiver relative to the transmitter, and \\(\\lambda\\) is the wavelength of the carrier signal.\n",
    "\n",
    "The Clarke's model is isotropic, assuming that the multipath components are uniformly scattered in all directions. This leads to the characteristic U-shaped Doppler spectrum, which shows how the power of the signal is distributed across different frequencies around the carrier frequency due to the Doppler effect.\n",
    "\n",
    "Clarke's spectrum and model are foundational in the study of wireless communication systems, providing insight into the behavior of signals in mobile environments and guiding the design of robust communication techniques to mitigate the effects of multipath fading."
   ]
  },
  {
   "cell_type": "code",
   "execution_count": 2,
   "id": "977f14f9-bab8-4c92-8d18-5a70f681481d",
   "metadata": {},
   "outputs": [
    {
     "ename": "LoadError",
     "evalue": "MethodError: no method matching -(::Int64, ::Vector{Float64})\nFor element-wise subtraction, use broadcasting with dot syntax: scalar .- array\n\n\u001b[0mClosest candidates are:\n\u001b[0m  -(::Real, \u001b[91m::Complex{Bool}\u001b[39m)\n\u001b[0m\u001b[90m   @\u001b[39m \u001b[90mBase\u001b[39m \u001b[90m\u001b[4mcomplex.jl:321\u001b[24m\u001b[39m\n\u001b[0m  -(::Real, \u001b[91m::Complex\u001b[39m)\n\u001b[0m\u001b[90m   @\u001b[39m \u001b[90mBase\u001b[39m \u001b[90m\u001b[4mcomplex.jl:333\u001b[24m\u001b[39m\n\u001b[0m  -(\u001b[91m::SparseArrays.AbstractSparseMatrixCSC\u001b[39m, ::Array)\n\u001b[0m\u001b[90m   @\u001b[39m \u001b[35mSparseArrays\u001b[39m \u001b[90m~/.julia/juliaup/julia-1.10.2+0.aarch64.apple.darwin14/share/julia/stdlib/v1.10/SparseArrays/src/\u001b[39m\u001b[90m\u001b[4msparsematrix.jl:2247\u001b[24m\u001b[39m\n\u001b[0m  ...\n",
     "output_type": "error",
     "traceback": [
      "MethodError: no method matching -(::Int64, ::Vector{Float64})\nFor element-wise subtraction, use broadcasting with dot syntax: scalar .- array\n\n\u001b[0mClosest candidates are:\n\u001b[0m  -(::Real, \u001b[91m::Complex{Bool}\u001b[39m)\n\u001b[0m\u001b[90m   @\u001b[39m \u001b[90mBase\u001b[39m \u001b[90m\u001b[4mcomplex.jl:321\u001b[24m\u001b[39m\n\u001b[0m  -(::Real, \u001b[91m::Complex\u001b[39m)\n\u001b[0m\u001b[90m   @\u001b[39m \u001b[90mBase\u001b[39m \u001b[90m\u001b[4mcomplex.jl:333\u001b[24m\u001b[39m\n\u001b[0m  -(\u001b[91m::SparseArrays.AbstractSparseMatrixCSC\u001b[39m, ::Array)\n\u001b[0m\u001b[90m   @\u001b[39m \u001b[35mSparseArrays\u001b[39m \u001b[90m~/.julia/juliaup/julia-1.10.2+0.aarch64.apple.darwin14/share/julia/stdlib/v1.10/SparseArrays/src/\u001b[39m\u001b[90m\u001b[4msparsematrix.jl:2247\u001b[24m\u001b[39m\n\u001b[0m  ...\n",
      "",
      "Stacktrace:",
      " [1] top-level scope",
      "   @ In[2]:10"
     ]
    }
   ],
   "source": [
    "using Plots\n",
    "\n",
    "# Parameters\n",
    "f_m = 100  # maximum Doppler shift in Hz\n",
    "f = range(-f_m, f_m, length=1000)  # frequency range from -f_m to f_m\n",
    "\n",
    "# Clarke's spectrum formula\n",
    "# S_f = 1 ./ (π * f_m * sqrt.(1 - (f ./ f_m).^2))\n",
    "# Clarke's spectrum formula with corrected broadcasting\n",
    "S_f = 1 ./ (π * f_m * sqrt.(1 - (f ./ f_m).^2))\n",
    "\n",
    "\n",
    "# Handle division by zero for plotting (replace NaNs with 0)\n",
    "S_f[isnan.(S_f)] .= 0\n",
    "\n",
    "# Plotting\n",
    "plot(f, S_f, label=\"Clarke's Spectrum\", fill=(0, :skyblue, 0.4),\n",
    "    title=\"Clarke's Doppler Spectrum\", xlabel=\"Frequency (Hz)\", ylabel=\"Spectral Density\",\n",
    "    legend=:topright, grid=true, size=(1000, 600))\n"
   ]
  },
  {
   "cell_type": "markdown",
   "id": "8da15b66-1a41-4154-aa5f-8905831e2a05",
   "metadata": {},
   "source": [
    "```python\n",
    "import numpy as np\n",
    "import matplotlib.pyplot as plt\n",
    "\n",
    "# Parameters\n",
    "f_m = 100  # maximum Doppler shift in Hz\n",
    "f = np.linspace(-f_m, f_m, 1000)  # frequency range from -f_m to f_m\n",
    "\n",
    "# Clarke's spectrum formula\n",
    "S_f = 1 / (np.pi * f_m * np.sqrt(1 - (f / f_m)**2))\n",
    "\n",
    "# Handle division by zero for plotting\n",
    "S_f[np.isnan(S_f)] = 0\n",
    "\n",
    "# Plotting\n",
    "plt.figure(figsize=(10, 6))\n",
    "plt.plot(f, S_f, label=\"Clarke's Spectrum\")\n",
    "plt.fill_between(f, 0, S_f, color='skyblue', alpha=0.4)\n",
    "plt.title(\"Clarke's Doppler Spectrum\")\n",
    "plt.xlabel(\"Frequency (Hz)\")\n",
    "plt.ylabel(\"Spectral Density\")\n",
    "plt.legend()\n",
    "plt.grid(True)\n",
    "plt.show()\n",
    "\n",
    "```"
   ]
  },
  {
   "cell_type": "code",
   "execution_count": null,
   "id": "58ec24b4-e538-495a-954c-e35df6bad182",
   "metadata": {},
   "outputs": [],
   "source": []
  }
 ],
 "metadata": {
  "kernelspec": {
   "display_name": "Julia 1.9.3",
   "language": "julia",
   "name": "julia-1.9"
  },
  "language_info": {
   "file_extension": ".jl",
   "mimetype": "application/julia",
   "name": "julia",
   "version": "1.10.2"
  }
 },
 "nbformat": 4,
 "nbformat_minor": 5
}
