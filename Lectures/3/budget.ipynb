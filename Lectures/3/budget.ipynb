{
 "cells": [
  {
   "cell_type": "markdown",
   "id": "fed4e173-6286-49b4-8ca7-5d3220eb4d4f",
   "metadata": {},
   "source": [
    "Why it is called link budget?"
   ]
  },
  {
   "cell_type": "markdown",
   "id": "5cebf90e-07d1-4268-b429-7e6d86d80470",
   "metadata": {},
   "source": [
    "In the field of telecommunications, particularly when dealing with antennas and signal transmissions, the term \"link budget\" refers to a method of accounting for all the gains and losses from the transmitter, through the medium (free space, cable, etc.), to the receiver in a communication system. It's called a \"budget\" because it essentially deals with `balancing the \"credits\" and \"debits\" of power` in the system.\n",
    "\n",
    "Here’s a breakdown of what it typically includes:\n",
    "\n",
    "1. **Transmitter Output Power**: The initial power level of the signal transmitted, measured in watts or dBm.\n",
    "\n",
    "2. **Gains and Losses in the Transmitting System**: This includes the gain from the transmitting antenna and losses due to cables, connectors, and other components.\n",
    "\n",
    "3. **Propagation Losses**: The major loss in any link budget, this includes the free space path loss (FSPL) which accounts for the reduction in power density of an electromagnetic wave as it spreads out through space.\n",
    "\n",
    "4. **Receiver Sensitivity**: This is the minimum signal power level required at the receiver to achieve a desired quality of reception. Lower sensitivity means the receiver can handle weaker signals.\n",
    "\n",
    "5. **Gains in the Receiving System**: Similar to the transmitting side, this includes gains due to the receiving antenna and losses from any intervening media or system components.\n",
    "\n",
    "The purpose of a link budget is to ensure that the received signal is strong enough to be detected and decoded correctly, taking into account all possible variables that might affect transmission. It helps in designing and assessing the feasibility and reliability of communication links. This budgeting is crucial for the effective planning and operation of radio and satellite communication systems."
   ]
  },
  {
   "cell_type": "code",
   "execution_count": null,
   "id": "87311bcb-fa45-4a8c-abe7-acfe545473c2",
   "metadata": {},
   "outputs": [],
   "source": []
  }
 ],
 "metadata": {
  "kernelspec": {
   "display_name": "Julia 1.9.3",
   "language": "julia",
   "name": "julia-1.9"
  },
  "language_info": {
   "file_extension": ".jl",
   "mimetype": "application/julia",
   "name": "julia",
   "version": "1.10.2"
  }
 },
 "nbformat": 4,
 "nbformat_minor": 5
}
