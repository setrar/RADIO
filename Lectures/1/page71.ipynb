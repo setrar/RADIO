{
 "cells": [
  {
   "cell_type": "markdown",
   "id": "1c9a7ab2-1b2d-4946-b8cb-bd52c68a65b9",
   "metadata": {},
   "source": [
    "## Link Budget: Example"
   ]
  },
  {
   "cell_type": "markdown",
   "id": "636ac369-3874-47ab-bf5d-9cacb50a89a5",
   "metadata": {},
   "source": [
    "** Consider a GSM system with the following characteristics: \n",
    "- Carrier frequency fc = 900MHz,\n",
    "- Bandwidth B = 200kHz,\n",
    "- Operating temperature T = 300 K,\n",
    "- Antenna gains GTX = 8 dB and GRX = −2 dB,\n",
    "- Cable losses at TX LTX = 2 dB,\n",
    "- Receiver noise figure F = 7 dB.\n",
    "\n",
    "** The propagation characteristics are \n",
    "- The path loss exponent is n = 3.8,\n",
    "- the breakpoint distance is 10 m,\n",
    "- the fading margin is 10 dB.\n",
    "The required operating SNR is 8 dB, the desired range of coverage 2 km. "
   ]
  },
  {
   "cell_type": "markdown",
   "id": "a01d522a-a178-4311-9c6b-f174513c657c",
   "metadata": {},
   "source": [
    "#### What is the minimum TX power?"
   ]
  },
  {
   "cell_type": "code",
   "execution_count": 1,
   "id": "715a4bb6-1e0e-4ed9-a907-18b6422ab4f3",
   "metadata": {},
   "outputs": [],
   "source": [
    "# Given parameters\n",
    "𝑓₍ = 900e6  # Carrier frequency in Hz\n",
    "B = 200e3   # Bandwidth in Hz\n",
    "T = 300     # Operating temperature in Kelvin\n",
    "GTX_dB = 8  # Transmitter antenna gain in dB\n",
    "GRX_dB = -2 # Receiver antenna gain in dB\n",
    "LTX_dB = 2  # Cable losses at transmitter in dB\n",
    "F_dB = 7    # Receiver noise figure in dB\n",
    "n = 3.8     # Path loss exponent\n",
    "d₀ = 10     # Breakpoint distance in meters\n",
    "dᵩ = 2000   # Desired range of coverage in meters\n",
    "Mf_dB = 10  # Fading margin in dB\n",
    "SNR_req_dB = 8;  # Required operating SNR in dB\n"
   ]
  },
  {
   "cell_type": "code",
   "execution_count": 2,
   "id": "43c22970-a77b-4d12-ba6c-8ddf07d44f50",
   "metadata": {},
   "outputs": [
    {
     "name": "stdout",
     "output_type": "stream",
     "text": [
      "Minimum required TX power: 38.98428998065759 dBm\n"
     ]
    }
   ],
   "source": [
    "# Calculate path loss at the breakpoint distance (d₀) using the free-space path loss formula\n",
    "PL_d0_dB = 20 * log10(d₀) + 20 * log10(𝑓₍) - 147.55\n",
    "\n",
    "# Calculate total path loss at the desired distance (dᵩ)\n",
    "PL_dᵩ_dB = PL_d0_dB + 10 * n * log10(dᵩ / d₀)\n",
    "\n",
    "# Calculate noise power in dBm\n",
    "N_dBm = -174 + 10 * log10(B) + F_dB\n",
    "\n",
    "# Estimate the minimum required transmit power in dBm\n",
    "P_TX_min_dBm = SNR_req_dB + N_dBm + PL_dᵩ_dB + Mf_dB - GTX_dB - GRX_dB + LTX_dB\n",
    "\n",
    "println(\"Minimum required TX power: \", P_TX_min_dBm, \" dBm\")\n"
   ]
  },
  {
   "cell_type": "code",
   "execution_count": 3,
   "id": "4a953941-2d55-4e60-b67e-43bbc7f77c18",
   "metadata": {},
   "outputs": [
    {
     "name": "stdout",
     "output_type": "stream",
     "text": [
      "Minimum TX power in watts: 7.914600498295329\n"
     ]
    }
   ],
   "source": [
    "# Convert dBm to watts\n",
    "P_W = 10 ^ ((P_TX_min_dBm - 30) / 10)\n",
    "\n",
    "println(\"Minimum TX power in watts: \", P_W)\n"
   ]
  },
  {
   "cell_type": "code",
   "execution_count": null,
   "id": "f4a94b79-c7ec-451d-bc99-9581e605c305",
   "metadata": {},
   "outputs": [],
   "source": []
  }
 ],
 "metadata": {
  "kernelspec": {
   "display_name": "Julia 1.9.3",
   "language": "julia",
   "name": "julia-1.9"
  },
  "language_info": {
   "file_extension": ".jl",
   "mimetype": "application/julia",
   "name": "julia",
   "version": "1.10.2"
  }
 },
 "nbformat": 4,
 "nbformat_minor": 5
}
