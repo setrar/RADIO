{
 "cells": [
  {
   "cell_type": "markdown",
   "id": "1c9a7ab2-1b2d-4946-b8cb-bd52c68a65b9",
   "metadata": {},
   "source": [
    "## Link Budget: Example"
   ]
  },
  {
   "cell_type": "markdown",
   "id": "636ac369-3874-47ab-bf5d-9cacb50a89a5",
   "metadata": {},
   "source": [
    "** Consider a GSM system with the following characteristics: \n",
    "- Carrier frequency fc = 900MHz,\n",
    "- Bandwidth B = 200kHz,\n",
    "- Operating temperature T = 300 K,\n",
    "- Antenna gains GTX = 8 dB and GRX = −2 dB,\n",
    "- Cable losses at TX LTX = 2 dB,\n",
    "- Receiver noise figure F = 7 dB.\n",
    "\n",
    "** The propagation characteristics are \n",
    "- The path loss exponent is n = 3.8,\n",
    "- the breakpoint distance is 10 m,\n",
    "- the fading margin is 10 dB.\n",
    "The required operating SNR is 8 dB, the desired range of coverage 2 km. "
   ]
  },
  {
   "cell_type": "markdown",
   "id": "a01d522a-a178-4311-9c6b-f174513c657c",
   "metadata": {},
   "source": [
    "#### What is the minimum TX power?"
   ]
  },
  {
   "cell_type": "code",
   "execution_count": null,
   "id": "43c22970-a77b-4d12-ba6c-8ddf07d44f50",
   "metadata": {},
   "outputs": [],
   "source": []
  }
 ],
 "metadata": {
  "kernelspec": {
   "display_name": "Julia 1.9.3",
   "language": "julia",
   "name": "julia-1.9"
  },
  "language_info": {
   "file_extension": ".jl",
   "mimetype": "application/julia",
   "name": "julia",
   "version": "1.10.2"
  }
 },
 "nbformat": 4,
 "nbformat_minor": 5
}
