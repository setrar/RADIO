{
 "cells": [
  {
   "cell_type": "markdown",
   "id": "e9ab7e10-b0a0-412d-b14d-a0c5e9f1d79e",
   "metadata": {},
   "source": [
    "# Decibels"
   ]
  },
  {
   "cell_type": "markdown",
   "id": "14bcc88c-85a8-46f8-9d63-c05a76620d77",
   "metadata": {},
   "source": [
    "The power ratio in decibels (dB) is calculated using the formula:\n",
    "\n",
    "$$\n",
    "dB = 10 \\cdot \\log_{10}\\left(\\frac{P_2}{P_1}\\right)\n",
    "$$\n",
    "\n",
    "where:\n",
    "- $dB$ is the power level in decibels,\n",
    "- $P_2$ is the power being measured,\n",
    "- $P_1$ is the reference power level,\n",
    "- $\\log_{10}$ is the base-10 logarithm.\n",
    "\n",
    "This formula is used to express the ratio of two power levels (e.g., the output power compared to the input power) in decibels, a logarithmic unit that quantifies the relative difference between two quantities. The use of the logarithmic scale allows for easier handling and interpretation of the large variations in power levels that can occur in electronic and acoustic systems.\n",
    "\n",
    "For example, if the output power of an amplifier is 10 watts and the input power is 1 watt, the power gain in decibels would be calculated as:\n",
    "\n",
    "$$\n",
    "dB = 10 \\cdot \\log_{10}\\left(\\frac{10\\, \\text{W}}{1\\, \\text{W}}\\right) = 10 \\cdot \\log_{10}(10) = 10 \\cdot 1 = 10\\, dB\n",
    "$$\n",
    "\n",
    "This means the power gain of the amplifier is 10 dB, indicating a tenfold increase in power from input to output."
   ]
  },
  {
   "cell_type": "code",
   "execution_count": 12,
   "id": "28ae7289-b9da-49a5-83b0-459034548428",
   "metadata": {},
   "outputs": [
    {
     "data": {
      "text/plain": [
       "10.0"
      ]
     },
     "execution_count": 12,
     "metadata": {},
     "output_type": "execute_result"
    }
   ],
   "source": [
    "pₒᵤₜ, pᵢₙ = 10, 1; dB = 10 * log10( pₒᵤₜ/pᵢₙ )"
   ]
  },
  {
   "cell_type": "code",
   "execution_count": 18,
   "id": "57360375-7850-4246-8878-c31a94e922c0",
   "metadata": {},
   "outputs": [
    {
     "data": {
      "text/plain": [
       "3.0"
      ]
     },
     "execution_count": 18,
     "metadata": {},
     "output_type": "execute_result"
    }
   ],
   "source": [
    "pₒᵤₜ, pᵢₙ = 2, 1; round( 10 * log10( pₒᵤₜ/pᵢₙ ), digits = 1 )"
   ]
  },
  {
   "cell_type": "code",
   "execution_count": null,
   "id": "9315fcd5-e048-4c76-b8f0-0f6c00c51338",
   "metadata": {},
   "outputs": [],
   "source": [
    "pₒᵤₜ, pᵢₙ = 3, 1; # Watts"
   ]
  },
  {
   "cell_type": "markdown",
   "id": "30cf6067-dd7b-4e80-96b5-f745c2583085",
   "metadata": {},
   "source": [
    "# References"
   ]
  },
  {
   "cell_type": "markdown",
   "id": "ef484c24-cfd6-4b9f-ac43-a789dcf07abb",
   "metadata": {},
   "source": [
    " - [ ] [Decibel](https://en.wikipedia.org/wiki/Decibel)"
   ]
  },
  {
   "cell_type": "code",
   "execution_count": null,
   "id": "34c491dc-9e55-4214-8815-b3ebae8ae3f5",
   "metadata": {},
   "outputs": [],
   "source": []
  }
 ],
 "metadata": {
  "kernelspec": {
   "display_name": "Julia 1.9.3",
   "language": "julia",
   "name": "julia-1.9"
  },
  "language_info": {
   "file_extension": ".jl",
   "mimetype": "application/julia",
   "name": "julia",
   "version": "1.10.2"
  }
 },
 "nbformat": 4,
 "nbformat_minor": 5
}
