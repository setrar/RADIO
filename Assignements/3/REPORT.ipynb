{
 "cells": [
  {
   "cell_type": "markdown",
   "id": "f816d5dc-4e4d-47b2-9797-32ec6e9020a6",
   "metadata": {},
   "source": [
    "&#x1F465; Group C:\n",
    "\n",
    "Manoranjani Navamani Kathiresan Kulanthaivel\n",
    "\n",
    "Brice Setra Robert"
   ]
  },
  {
   "cell_type": "markdown",
   "id": "4c7d782b-a312-4b5e-a5fc-5df52c7d6419",
   "metadata": {},
   "source": [
    "### &#x1F4D1; Assignment 3"
   ]
  },
  {
   "cell_type": "code",
   "execution_count": null,
   "id": "ce2fbf09-8170-414a-ae29-50ba7e91c8e3",
   "metadata": {},
   "outputs": [],
   "source": []
  }
 ],
 "metadata": {
  "kernelspec": {
   "display_name": "Julia 1.9.3",
   "language": "julia",
   "name": "julia-1.9"
  },
  "language_info": {
   "file_extension": ".jl",
   "mimetype": "application/julia",
   "name": "julia",
   "version": "1.10.3"
  }
 },
 "nbformat": 4,
 "nbformat_minor": 5
}
