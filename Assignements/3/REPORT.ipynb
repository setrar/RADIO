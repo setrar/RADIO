{
 "cells": [
  {
   "cell_type": "markdown",
   "id": "f816d5dc-4e4d-47b2-9797-32ec6e9020a6",
   "metadata": {},
   "source": [
    "&#x1F465; Group C:\n",
    "\n",
    "Manoranjani Navamani Kathiresan Kulanthaivel\n",
    "\n",
    "Brice Setra Robert"
   ]
  },
  {
   "cell_type": "markdown",
   "id": "4c7d782b-a312-4b5e-a5fc-5df52c7d6419",
   "metadata": {},
   "source": [
    "### &#x1F4D1; Assignment 3\n",
    "\n",
    "---\n",
    "\n",
    "Split in teams of two or three. Run simulations using the provided MATLAB script of an OFDM receiver with coverage enhancement and observe issues, identify their root cause(s), and improve the receiver algorithms in order to pass the EVM criterion for successful decoding for specific channel conditions (SNR) and repetition level (R).\n",
    "\n",
    "- Successful decoding criterion: ***An average EVM of 50%*** where EVM[%] is defined as EVM[%] = $100 . \\sqrt{\\frac{| x - \\hat{x}|^2}{|x|^2}}$"
   ]
  },
  {
   "cell_type": "markdown",
   "id": "2d50db6f-e5ae-449e-8a14-9542972854b2",
   "metadata": {},
   "source": [
    "&#x1F518; ***Part one - OFDM with coverage enhancement without the presence of STO***\n",
    "\n",
    "---\n",
    "\n",
    "- Familiarize with the transmitter/channel/receiver sections of the script.\n",
    "- Enabled the plots and run a single transmission simulation (T=1) and observe the EVM behavior as a function of the\n",
    "repetition index r. Identify the performance issue and try to understand it’s root cause.\n",
    "- Introduce a solution that improves the performance (i.e. the average EVM converges below the successful decoding criteria)."
   ]
  },
  {
   "cell_type": "markdown",
   "id": "f3b29edd-8593-455a-8096-1ae3246b430e",
   "metadata": {},
   "source": [
    "- [ ] [ labSessionEurecom_Part1.m ](matlab/labSessionEurecom_Part1.m)\n",
    "\n",
    "<img src=images/part1.png width='' height='' > </img>"
   ]
  },
  {
   "cell_type": "markdown",
   "id": "55665ba8-60e4-4203-95f6-c2f6c73086ea",
   "metadata": {},
   "source": [
    "### Issues Identified and Recommendations for Improvement:\n",
    "\n",
    "**1. Pilot-based Channel Estimation:**\n",
    "- **Issue:** Current channel estimation relies heavily on pilot symbols, assuming perfect recovery.\n",
    "- **Recommendation:** Implement robust channel estimation techniques (e.g., MMSE, LS) with improved pilot pattern design to mitigate errors due to imperfect pilot recovery.\n",
    "\n",
    "**2. Combining and Normalization:**\n",
    "- **Issue:** Repetition combining (`y = combEnabled*y + yr;`) and normalization (`y_norm = y/r;`) methods may degrade signal quality depending on `combEnabled` and `R`.\n",
    "- **Recommendation:** Optimize repetition combining strategies and ensure appropriate normalization to enhance received signal quality without introducing distortion.\n",
    "\n",
    "**3. CFO Compensation:**\n",
    "- **Issue:** Current CFO compensation may not handle high CFO values or varying SNR conditions effectively (`cfoPhaseRamp` calculation).\n",
    "- **Recommendation:** Implement robust CFO estimation and compensation techniques (e.g., Schmidl & Cox method) to accurately recover symbols without rotation.\n",
    "\n",
    "**4. Signal Distortion and STO Handling:**\n",
    "- **Issue:** Management of `stoError` and `cpLength` for STO and CP handling could lead to symbol distortion during FFT/IFFT operations.\n",
    "- **Recommendation:** Ensure proper STO and CP handling to prevent symbol overlap or loss, using adequate guard intervals and synchronization algorithms.\n",
    "\n",
    "**5. EVM Calculation:**\n",
    "- **Issue:** Lack of explicit EVM calculation (`sqrt(sum(abs(x - x_est).^2) / sum(abs(x).^2)) * 100`) to monitor demodulated symbol quality.\n",
    "- **Recommendation:** Implement rigorous EVM monitoring post-demodulation to ensure decoded symbols meet the target criterion (50%).\n",
    "\n",
    "**Conclusion:**\n",
    "By addressing these recommendations—enhancing channel estimation, improving CFO compensation, optimizing STO and CP handling, monitoring EVM, and conducting comprehensive simulations—the OFDM receiver can achieve robust performance across various SNR and repetition conditions, ensuring successful decoding and reliable operation in practical scenarios."
   ]
  },
  {
   "cell_type": "markdown",
   "id": "7a866dd5-1896-4bc2-ad60-9240d9967c37",
   "metadata": {},
   "source": [
    "&#x1F518; ***Part two – OFDM with coverage enhancement with the presence of STO and STO avoidance***\n",
    "\n",
    "\n",
    "---\n",
    "\n",
    "- Observe the effect of STO on the EVM performance and try to identify which receiver block is affected and why.\n",
    "- Modify the effected algorithm by attempting to avoid the effect of STO. Re-test and check again the average EVM pass\n",
    "criterion."
   ]
  },
  {
   "cell_type": "markdown",
   "id": "dc5a919e-667a-4cf4-9729-584161d731fc",
   "metadata": {},
   "source": [
    "- [ ] [ labSessionEurecom_Part2.m ](matlab/labSessionEurecom_Part2.m)\n",
    "\n",
    "<img src=images/part2.png width='' height='' > </img>"
   ]
  },
  {
   "cell_type": "markdown",
   "id": "c2d3871b-be59-4a66-9807-009f49992d44",
   "metadata": {},
   "source": [
    " &#x1F518; ***Part three – OFDM with coverage enhancement with the presence of STO and STO estimation/correction***\n",
    "\n",
    "---\n",
    "\n",
    "- Attempt to mathematically derive and the implement in MATLAB an STO estimation algorithm using the information of the\n",
    "presentation. Make sure that your STO estimate is used properly to correct STO. Try your algorithm in high SNR before going\n",
    "to lower noise conditions. Consult with the supervisors for help. Go back to lower SNR and observe the EVM pass criterion.\n",
    "- Once you have a satisfying solution, increase the number of transmissions (T) to get a better EVM statistical average (do not\n",
    "forget to disable plotting when running simulations with T > 1).\n",
    "\n",
    "___\n",
    "\n",
    "***Effect of Symbol Time Offset (STO)***\n",
    "\n",
    "- Symbol time offset in OFDM systems occurs when the beginning of the transmitted OFDM symbol is erroneously estimated at the receiver. In this case, the FFT window will be placed to a position with $\\delta$ samples error compared to the correct timing of the OFDM symbol.\n",
    "- The effect of STO mathematically can be shown as follows: Transmitted symbols : $𝑥_l(𝑘)$ , time domain signal: $𝑥_l[𝑛]$ where:\n",
    "\n",
    "$\n",
    "\\begin{align*}\n",
    "x_l(k) &= \\frac{1}{N} \\displaystyle\\sum_{n=0}^{N - 1} x_l[n] . e^{-j 2 \\pi n \\frac{k}{N}} \\\\\n",
    "x_l(k,\\delta) &= \\frac{1}{N} \\displaystyle\\sum_{n=0}^{N - 1} x_l[n + \\delta] . e^{ \\frac{j 2 \\pi n k}{N}} = \\frac{1}{N} \\displaystyle\\sum_{m = \\delta }^{N - 1 + \\delta } x_l[m] . e^{ \\frac{j 2 \\pi (m - \\delta) k}{N}} \\\\\n",
    "&= \\frac{1}{N} \\displaystyle\\sum_{m = 0}^{N - 1} x_l[m] . e^{ \\frac{j 2 \\pi m k}{N}} . e^{j 2 \\pi k \\delta} = x_l(k) . e^{ \\frac{j 2 \\pi \\delta k}{N}} \\; \\text{(phase ramp)}\n",
    "\\end{align*} \n",
    "$ \n",
    "\n",
    "Combined symbol after R repetitions:\n",
    "\n",
    "$\n",
    "𝑦_R(𝑘,𝑙,\\delta) =  \\frac{1}{R} \\displaystyle\\sum_{r=1}^{R} 𝑦_r(𝑘,𝑙) = \\frac{1}{R} \\displaystyle\\sum_{r=1}^{R}  [h_r (𝑘,𝑙) . 𝑥_r(𝑘,𝑙) +𝑛_r (𝑘,𝑙) ] = h . 𝑥(𝑘,𝑙)  . e^{\\frac{ j 2 \\pi n k}{N}} n_r(k,l)\n",
    "$"
   ]
  },
  {
   "cell_type": "markdown",
   "id": "e2ec971c-41dc-4ee8-b5e0-7a0586d56499",
   "metadata": {},
   "source": [
    "- [ ] [ labSessionEurecom_Part3.m ](matlab/labSessionEurecom_Part3.m)\n"
   ]
  },
  {
   "cell_type": "markdown",
   "id": "e039203d-0d9b-4cd6-97d3-135b402ca525",
   "metadata": {},
   "source": [
    "&#x1F518; ***Part four (extra) – OFDM with coverage enhancement with the presence of CFO and CFO avoidance/correction***\n",
    "\n",
    "___not done___"
   ]
  },
  {
   "cell_type": "code",
   "execution_count": null,
   "id": "8362b070-7caa-4d5d-8a24-8d0e54f938e6",
   "metadata": {},
   "outputs": [],
   "source": []
  }
 ],
 "metadata": {
  "kernelspec": {
   "display_name": "Julia 1.9.3",
   "language": "julia",
   "name": "julia-1.9"
  },
  "language_info": {
   "file_extension": ".jl",
   "mimetype": "application/julia",
   "name": "julia",
   "version": "1.10.4"
  }
 },
 "nbformat": 4,
 "nbformat_minor": 5
}
