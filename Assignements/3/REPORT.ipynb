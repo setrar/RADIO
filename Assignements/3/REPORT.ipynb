{
 "cells": [
  {
   "cell_type": "markdown",
   "id": "f816d5dc-4e4d-47b2-9797-32ec6e9020a6",
   "metadata": {},
   "source": [
    "&#x1F465; Group C:\n",
    "\n",
    "Manoranjani Navamani Kathiresan Kulanthaivel\n",
    "\n",
    "Brice Setra Robert"
   ]
  },
  {
   "cell_type": "markdown",
   "id": "4c7d782b-a312-4b5e-a5fc-5df52c7d6419",
   "metadata": {},
   "source": [
    "### &#x1F4D1; Assignment 3\n",
    "\n",
    "---\n",
    "\n",
    "Split in teams of two or three. Run simulations using the provided MATLAB script of an OFDM receiver with coverage enhancement and observe issues, identify their root cause(s), and improve the receiver algorithms in order to pass the EVM criterion for successful decoding for specific channel conditions (SNR) and repetition level (R).\n",
    "\n",
    "- Successful decoding criterion: ***An average EVM of 50%*** where EVM[%] is defined as EVM[%] = $100 . \\sqrt{\\frac{| x - \\hat{x}|^2}{|x|^2}}$"
   ]
  },
  {
   "cell_type": "markdown",
   "id": "2d50db6f-e5ae-449e-8a14-9542972854b2",
   "metadata": {},
   "source": [
    "&#x1F518; ***Part one - OFDM with coverage enhancement without the presence of STO***\n",
    "\n",
    "---\n",
    "\n",
    "- Familiarize with the transmitter/channel/receiver sections of the script.\n",
    "- Enabled the plots and run a single transmission simulation (T=1) and observe the EVM behavior as a function of the\n",
    "repetition index r. Identify the performance issue and try to understand it’s root cause.\n",
    "- Introduce a solution that improves the performance (i.e. the average EVM converges below the successful decoding criteria)."
   ]
  },
  {
   "cell_type": "code",
   "execution_count": null,
   "id": "34bff516-e81c-4707-a721-a4d931a15bde",
   "metadata": {},
   "outputs": [],
   "source": []
  },
  {
   "cell_type": "markdown",
   "id": "7a866dd5-1896-4bc2-ad60-9240d9967c37",
   "metadata": {},
   "source": [
    "&#x1F518; ***Part two – OFDM with coverage enhancement with the presence of STO and STO avoidance***\n",
    "\n",
    "\n",
    "---\n",
    "\n",
    "- Observe the effect of STO on the EVM performance and try to identify which receiver block is affected and why.\n",
    "- Modify the effected algorithm by attempting to avoid the effect of STO. Re-test and check again the average EVM pass\n",
    "criterion."
   ]
  },
  {
   "cell_type": "code",
   "execution_count": null,
   "id": "5b42900c-896a-4a6c-80a8-6590687d4116",
   "metadata": {},
   "outputs": [],
   "source": []
  },
  {
   "cell_type": "markdown",
   "id": "c2d3871b-be59-4a66-9807-009f49992d44",
   "metadata": {},
   "source": [
    " &#x1F518; ***Part three – OFDM with coverage enhancement with the presence of STO and STO estimation/correction***\n",
    "\n",
    "---\n",
    "\n",
    "- Attempt to mathematically derive and the implement in MATLAB an STO estimation algorithm using the information of the\n",
    "presentation. Make sure that your STO estimate is used properly to correct STO. Try your algorithm in high SNR before going\n",
    "to lower noise conditions. Consult with the supervisors for help. Go back to lower SNR and observe the EVM pass criterion.\n",
    "- Once you have a satisfying solution, increase the number of transmissions (T) to get a better EVM statistical average (do not\n",
    "forget to disable plotting when running simulations with T > 1)."
   ]
  },
  {
   "cell_type": "code",
   "execution_count": null,
   "id": "5ac9fc8d-da42-4c84-b73c-dacf970306db",
   "metadata": {},
   "outputs": [],
   "source": []
  },
  {
   "cell_type": "markdown",
   "id": "e039203d-0d9b-4cd6-97d3-135b402ca525",
   "metadata": {},
   "source": [
    "&#x1F518; ***Part four (extra) – OFDM with coverage enhancement with the presence of CFO and CFO avoidance/correction***"
   ]
  },
  {
   "cell_type": "code",
   "execution_count": null,
   "id": "8362b070-7caa-4d5d-8a24-8d0e54f938e6",
   "metadata": {},
   "outputs": [],
   "source": []
  }
 ],
 "metadata": {
  "kernelspec": {
   "display_name": "Julia 1.9.3",
   "language": "julia",
   "name": "julia-1.9"
  },
  "language_info": {
   "file_extension": ".jl",
   "mimetype": "application/julia",
   "name": "julia",
   "version": "1.10.3"
  }
 },
 "nbformat": 4,
 "nbformat_minor": 5
}
