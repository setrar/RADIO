{
 "cells": [
  {
   "cell_type": "code",
   "execution_count": 1,
   "id": "8e061953-eb11-4579-afef-c8afe237ac21",
   "metadata": {},
   "outputs": [
    {
     "name": "stdout",
     "output_type": "stream",
     "text": [
      "Kᵦ = 1.38e-23\n",
      "Tₑ = 300\n"
     ]
    }
   ],
   "source": [
    "Kᵦ = 1.38e-23; @show Kᵦ # Boltzmann constant\n",
    "Tₑ = 300; @show Tₑ; # Average Room Temperature [290 ~ 300k]  Kelvin "
   ]
  },
  {
   "cell_type": "code",
   "execution_count": 2,
   "id": "affd1f53-6100-44ef-b729-da988c029ace",
   "metadata": {},
   "outputs": [
    {
     "name": "stdout",
     "output_type": "stream",
     "text": [
      "round(N₀, digits = 0) = -174.0\n"
     ]
    }
   ],
   "source": [
    "# 10 * log10( 1.38e-23 * 300 ) + 30\n",
    "N₀ = 10 * log10( Kᵦ * Tₑ ) + 30; @show round( N₀ , digits = 0); # Termal Noise -174 dBm "
   ]
  },
  {
   "cell_type": "code",
   "execution_count": 3,
   "id": "e66e5be5-570a-4bed-a1f6-847448b4180c",
   "metadata": {},
   "outputs": [],
   "source": [
    "B = 10 * log10(40e6); # B Bandwidth"
   ]
  },
  {
   "cell_type": "code",
   "execution_count": 4,
   "id": "fac1d890-4be1-4494-9046-d44e6eeccd1f",
   "metadata": {},
   "outputs": [
    {
     "name": "stdout",
     "output_type": "stream",
     "text": [
      "SNR = 0\n"
     ]
    }
   ],
   "source": [
    "SNR = 0; @show SNR; # dB"
   ]
  },
  {
   "cell_type": "code",
   "execution_count": 5,
   "id": "4b5b131f-74a5-4bc4-8c06-f72b2a70d0d9",
   "metadata": {},
   "outputs": [
    {
     "name": "stdout",
     "output_type": "stream",
     "text": [
      "round(Pₙ, digits = 1) = -97.8\n"
     ]
    }
   ],
   "source": [
    "Pₙ = N₀ + B; @show round( Pₙ , digits = 1); # Total Rx Noise = -174 dBm + 10log(B) in dB"
   ]
  },
  {
   "cell_type": "code",
   "execution_count": 6,
   "id": "f296fa19-af94-486e-9989-af32a24e6abf",
   "metadata": {},
   "outputs": [],
   "source": [
    "Rₓₛ =  -97; # MIMO Data Rates & RX-sensitivity (lowest MCS [0 - 15 Mbps] value -97 dB"
   ]
  },
  {
   "cell_type": "markdown",
   "id": "119a5331-6c76-4ca6-8e6d-c61a45ecba23",
   "metadata": {},
   "source": [
    "Supported Link rates: in Datasheet JLG-55-23.pdf\n",
    "\n",
    "<table border=\"1\">\n",
    "    <tr>\n",
    "        <th>MIMO Data Rates &amp; RX-sensitivity</th>\n",
    "    </tr>\n",
    "    <tr>\n",
    "        <td>MCS 15 – 300 Mbps</td>\n",
    "        <td>-74 dBm</td>\n",
    "    </tr>\n",
    "    <tr>\n",
    "        <td>MCS 14 – 270 Mbps</td>\n",
    "        <td>-76 dBm</td>\n",
    "    </tr>\n",
    "    <tr>\n",
    "        <td>...</td>\n",
    "        <td>...</td>\n",
    "    </tr>\n",
    "    <tr>\n",
    "        <td>MCS 1 - 30 Mbps</td>\n",
    "        <td>-94 dBm</td>\n",
    "    </tr>\n",
    "    <tr>\n",
    "        <td>MCS 0 - 15 Mbps</td>\n",
    "        <td>-97 dBm</td>\n",
    "    </tr>\n",
    "</table>\n"
   ]
  },
  {
   "cell_type": "code",
   "execution_count": 7,
   "id": "0ce429e1-9886-4346-817e-133f8d6cfe36",
   "metadata": {},
   "outputs": [],
   "source": [
    "# Rx Sensitivity \n",
    "# Rₓ = N₀ + F + B + SNR  # Pn (dbM) + F (dB) + B (dB) + SNR (dB)"
   ]
  },
  {
   "cell_type": "code",
   "execution_count": 8,
   "id": "e2983bf8-8112-47a5-96ec-b2f892a47643",
   "metadata": {},
   "outputs": [
    {
     "data": {
      "text/plain": [
       "-97.80939667551138"
      ]
     },
     "execution_count": 8,
     "metadata": {},
     "output_type": "execute_result"
    }
   ],
   "source": [
    "Rᵥ =  N₀ + B + SNR "
   ]
  },
  {
   "cell_type": "code",
   "execution_count": 9,
   "id": "3991dfa8-0ad5-41f8-b77e-6b638980bf78",
   "metadata": {},
   "outputs": [
    {
     "data": {
      "text/plain": [
       "0.8093966755113797"
      ]
     },
     "execution_count": 9,
     "metadata": {},
     "output_type": "execute_result"
    }
   ],
   "source": [
    "F = Rₓₛ - Rᵥ # In dB"
   ]
  },
  {
   "cell_type": "code",
   "execution_count": 10,
   "id": "e4661b94-25c4-4d67-b64d-0a442f35ef99",
   "metadata": {},
   "outputs": [
    {
     "data": {
      "text/plain": [
       "1.2048685476865195"
      ]
     },
     "execution_count": 10,
     "metadata": {},
     "output_type": "execute_result"
    }
   ],
   "source": [
    "10^(F/10) # In linear"
   ]
  },
  {
   "cell_type": "code",
   "execution_count": null,
   "id": "5b282499-a756-47dc-8e9c-fd4ac0749501",
   "metadata": {},
   "outputs": [],
   "source": []
  }
 ],
 "metadata": {
  "kernelspec": {
   "display_name": "Julia 1.9.3",
   "language": "julia",
   "name": "julia-1.9"
  },
  "language_info": {
   "file_extension": ".jl",
   "mimetype": "application/julia",
   "name": "julia",
   "version": "1.10.2"
  }
 },
 "nbformat": 4,
 "nbformat_minor": 5
}
