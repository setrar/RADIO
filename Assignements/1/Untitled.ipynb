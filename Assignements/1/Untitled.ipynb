{
 "cells": [
  {
   "cell_type": "code",
   "execution_count": 8,
   "id": "099cc311-b7ca-450d-8932-1f5d42c2559d",
   "metadata": {},
   "outputs": [],
   "source": [
    "## Receive the signal\n",
    "include(\"./data/rssi.jl\");"
   ]
  },
  {
   "cell_type": "code",
   "execution_count": 9,
   "id": "dc01b275-bc2e-45b7-a4c7-dc8a01bf0383",
   "metadata": {},
   "outputs": [
    {
     "data": {
      "text/plain": [
       "1×6978 Matrix{Float64}:\n",
       " -62.0  -62.0  -62.0  -62.0  -62.0  …  -75.0  -76.0  -76.0  -76.0  -75.0"
      ]
     },
     "execution_count": 9,
     "metadata": {},
     "output_type": "execute_result"
    }
   ],
   "source": [
    "rssi1"
   ]
  },
  {
   "cell_type": "code",
   "execution_count": 15,
   "id": "f4b35353-6340-47ad-893c-6baf5bff1532",
   "metadata": {},
   "outputs": [
    {
     "data": {
      "text/plain": [
       "4-element Vector{Int64}:\n",
       " 1\n",
       " 2\n",
       " 3\n",
       " 4"
      ]
     },
     "execution_count": 15,
     "metadata": {},
     "output_type": "execute_result"
    }
   ],
   "source": [
    "vector = [1, 2, 3, 4]"
   ]
  },
  {
   "cell_type": "code",
   "execution_count": 16,
   "id": "ced63bbf-99d7-4484-bd08-2ec6a24d9ef4",
   "metadata": {},
   "outputs": [
    {
     "data": {
      "text/plain": [
       "1×4 Matrix{Int64}:\n",
       " 1  2  3  4"
      ]
     },
     "execution_count": 16,
     "metadata": {},
     "output_type": "execute_result"
    }
   ],
   "source": [
    "matrix = [1 2 3 4]"
   ]
  },
  {
   "cell_type": "code",
   "execution_count": 18,
   "id": "479995c8-85da-44c7-af8d-9a7dcbd80763",
   "metadata": {},
   "outputs": [
    {
     "data": {
      "text/plain": [
       "1×4 transpose(::Vector{Int64}) with eltype Int64:\n",
       " 1  2  3  4"
      ]
     },
     "execution_count": 18,
     "metadata": {},
     "output_type": "execute_result"
    }
   ],
   "source": [
    "vecT = transpose(vector)"
   ]
  },
  {
   "cell_type": "code",
   "execution_count": 19,
   "id": "2c79f6a5-ae1b-4d9b-be25-5233282b1927",
   "metadata": {},
   "outputs": [
    {
     "data": {
      "text/plain": [
       "1×4 transpose(::Vector{Int64}) with eltype Int64:\n",
       " 1  2  3  4"
      ]
     },
     "execution_count": 19,
     "metadata": {},
     "output_type": "execute_result"
    }
   ],
   "source": [
    "vecT"
   ]
  },
  {
   "cell_type": "code",
   "execution_count": 20,
   "id": "a3c0030a-c1e1-43df-b055-3f2252fb8eda",
   "metadata": {},
   "outputs": [
    {
     "data": {
      "text/plain": [
       "true"
      ]
     },
     "execution_count": 20,
     "metadata": {},
     "output_type": "execute_result"
    }
   ],
   "source": [
    "matrix == vecT"
   ]
  },
  {
   "cell_type": "code",
   "execution_count": 21,
   "id": "0d7dd935-f601-47a6-a82f-657ca4201eda",
   "metadata": {},
   "outputs": [
    {
     "data": {
      "text/plain": [
       "LinearAlgebra.Transpose{Int64, Vector{Int64}}"
      ]
     },
     "execution_count": 21,
     "metadata": {},
     "output_type": "execute_result"
    }
   ],
   "source": [
    "typeof(vecT)"
   ]
  },
  {
   "cell_type": "code",
   "execution_count": null,
   "id": "c0b08b9e-e9ec-403b-9554-15a93131bb1b",
   "metadata": {},
   "outputs": [],
   "source": []
  }
 ],
 "metadata": {
  "kernelspec": {
   "display_name": "Julia 1.9.3",
   "language": "julia",
   "name": "julia-1.9"
  },
  "language_info": {
   "file_extension": ".jl",
   "mimetype": "application/julia",
   "name": "julia",
   "version": "1.10.2"
  }
 },
 "nbformat": 4,
 "nbformat_minor": 5
}
