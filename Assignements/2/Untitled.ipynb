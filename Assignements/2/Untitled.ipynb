{
 "cells": [
  {
   "cell_type": "code",
   "execution_count": 1,
   "id": "b33fb115-8ee2-4a60-8b5d-3140ea134c01",
   "metadata": {},
   "outputs": [
    {
     "ename": "LoadError",
     "evalue": "UndefVarError: `𝖥` not defined",
     "output_type": "error",
     "traceback": [
      "UndefVarError: `𝖥` not defined",
      "",
      "Stacktrace:",
      " [1] top-level scope",
      "   @ In[1]:2"
     ]
    }
   ],
   "source": [
    "# Generate the Y2 data\n",
    "Y2 = 𝖥 .- 𝑷ᵣₓ .+ 30\n",
    "Y2 = reshape(Y2, :)\n",
    "\n",
    "# Plot the histogram\n",
    "histogram(Y2, bins=100, normalize=true, label=\"small scale fading\", xlabel=\"received power\", ylabel=\"dBm\", title=\"histogram of small scale fading with pdf of Rayleigh, Rician and Nakagami\")\n",
    "\n",
    "plot!(\n",
    "    xlims = (-10,80)\n",
    ")\n",
    "\n",
    "# Fit Rayleigh distribution\n",
    "rayleigh_dist = fit(Rayleigh, Y2)\n",
    "rayleigh_pdf = x -> pdf(rayleigh_dist, x)\n",
    "plot!(rayleigh_pdf\n",
    "    , label=\"Rayleigh\"\n",
    ")\n",
    "\n",
    "# Fit Rician distribution (manual fitting)\n",
    "μᵣᵢ₍ᵢₐₙ = mean(Y2)\n",
    "σᵣᵢ₍ᵢₐₙ = std(Y2)\n",
    "rician_dist = Rician(μᵣᵢ₍ᵢₐₙ, σᵣᵢ₍ᵢₐₙ)\n",
    "rician_pdf = x -> pdf(rician_dist, x)\n",
    "plot!(rician_pdf\n",
    "    , minimum(Y2):0.1:maximum(Y2)\n",
    "    , label=\"Rician\"\n",
    "    , color=RGB(0.4, 0.4, 0.4)\n",
    "    , linestyle=:dash\n",
    ")\n",
    "\n",
    "# Fit Nakagami distribution\n",
    "# Julia does not have a built-in Nakagami distribution, so we simulate it\n",
    "μₙₐₖₐᵧₐₘᵢ = mean(Y2)/2; @show mean(Y2)/2; # Shape parameter\n",
    "ωₙₐₖₐᵧₐₘᵢ = std(Y2)^5; @show std(Y2)^5; # Spread parameter\n",
    "nakagami_dist = Nakagami(μₙₐₖₐᵧₐₘᵢ, ωₙₐₖₐᵧₐₘᵢ)\n",
    "nakagami_pdf = x -> pdf(nakagami_dist, x)\n",
    "plot!(nakagami_pdf\n",
    "    # , -minimum(Y2)/2:0.1:maximum(Y2)\n",
    "    , label=\"Nakagami\"\n",
    "    , color=RGB(0.6, 0.6, 0.6)\n",
    "    , linestyle=:dot, linewidth=2.0\n",
    ")"
   ]
  },
  {
   "cell_type": "code",
   "execution_count": null,
   "id": "ba39739d-0161-4056-90e0-581e122f3066",
   "metadata": {},
   "outputs": [],
   "source": []
  }
 ],
 "metadata": {
  "kernelspec": {
   "display_name": "Julia 1.9.3",
   "language": "julia",
   "name": "julia-1.9"
  },
  "language_info": {
   "file_extension": ".jl",
   "mimetype": "application/julia",
   "name": "julia",
   "version": "1.10.3"
  }
 },
 "nbformat": 4,
 "nbformat_minor": 5
}
