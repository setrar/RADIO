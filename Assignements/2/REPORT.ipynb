{
 "cells": [
  {
   "cell_type": "markdown",
   "id": "e8b8d2eb-3c29-4ccf-b890-d77493e65a7d",
   "metadata": {},
   "source": [
    "&#x1F465; Group C:\n",
    "\n",
    "Manoranjani Navamani Kathiresan Kulanthaivel\n",
    "\n",
    "Brice Setra Robert\n"
   ]
  },
  {
   "cell_type": "code",
   "execution_count": null,
   "id": "c07fcf7f-f594-4a4e-b11b-7d235e715b33",
   "metadata": {},
   "outputs": [],
   "source": []
  },
  {
   "cell_type": "code",
   "execution_count": null,
   "id": "15d98737-5c18-4775-8d01-65617531a198",
   "metadata": {},
   "outputs": [],
   "source": []
  }
 ],
 "metadata": {
  "kernelspec": {
   "display_name": "Julia 1.10.2",
   "language": "julia",
   "name": "julia-1.10"
  },
  "language_info": {
   "file_extension": ".jl",
   "mimetype": "application/julia",
   "name": "julia",
   "version": "1.10.2"
  }
 },
 "nbformat": 4,
 "nbformat_minor": 5
}
