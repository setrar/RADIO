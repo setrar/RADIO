{
 "cells": [
  {
   "cell_type": "code",
   "execution_count": 6,
   "id": "dbf0b8e3-7722-4b20-ba96-dff2879c4385",
   "metadata": {},
   "outputs": [],
   "source": [
    "using Unitful: dB, mW, V"
   ]
  },
  {
   "cell_type": "code",
   "execution_count": 7,
   "id": "062ec460-b153-434d-9ede-f8b9233643c9",
   "metadata": {},
   "outputs": [
    {
     "data": {
      "text/plain": [
       "6 dB"
      ]
     },
     "execution_count": 7,
     "metadata": {},
     "output_type": "execute_result"
    }
   ],
   "source": [
    "3u\"dB\" * 2"
   ]
  },
  {
   "cell_type": "code",
   "execution_count": 8,
   "id": "74ad2b99-7dcc-44b6-b264-1288d548d5bf",
   "metadata": {},
   "outputs": [
    {
     "data": {
      "text/plain": [
       "3.0 dBm"
      ]
     },
     "execution_count": 8,
     "metadata": {},
     "output_type": "execute_result"
    }
   ],
   "source": [
    "3u\"dBm\""
   ]
  },
  {
   "cell_type": "code",
   "execution_count": 9,
   "id": "16f68986-a5a7-409e-b753-3d19baf0cc5d",
   "metadata": {},
   "outputs": [
    {
     "data": {
      "text/plain": [
       "true"
      ]
     },
     "execution_count": 9,
     "metadata": {},
     "output_type": "execute_result"
    }
   ],
   "source": [
    "u\"dB\"*3 === 3u\"dB\""
   ]
  },
  {
   "cell_type": "code",
   "execution_count": 10,
   "id": "736d2099-1f59-4ff6-8a4a-1f052ef161bf",
   "metadata": {},
   "outputs": [
    {
     "data": {
      "text/plain": [
       "10.0 dBm"
      ]
     },
     "execution_count": 10,
     "metadata": {},
     "output_type": "execute_result"
    }
   ],
   "source": [
    "@dB 10mW/mW"
   ]
  },
  {
   "cell_type": "code",
   "execution_count": 11,
   "id": "6c8ace6b-b8dc-45a6-8117-2df639ce6b3f",
   "metadata": {},
   "outputs": [
    {
     "data": {
      "text/plain": [
       "20.0 dBV"
      ]
     },
     "execution_count": 11,
     "metadata": {},
     "output_type": "execute_result"
    }
   ],
   "source": [
    "@dB 10V/V"
   ]
  },
  {
   "cell_type": "markdown",
   "id": "d76e209e-d1b9-436b-931a-27e421a924ff",
   "metadata": {},
   "source": [
    "# References\n",
    "- [ ] [Logarithmic Scales](https://painterqubits.github.io/Unitful.jl/stable/logarithm/)\n",
    "- [ ] [What are Decibels and why are 3dB and dBm important?](https://www.youtube.com/watch?v=ZMgd2obTZyc)"
   ]
  },
  {
   "cell_type": "code",
   "execution_count": null,
   "id": "b3fcf728-5162-49ab-8e98-aa63b96c92f0",
   "metadata": {},
   "outputs": [],
   "source": []
  }
 ],
 "metadata": {
  "kernelspec": {
   "display_name": "Julia 1.9.3",
   "language": "julia",
   "name": "julia-1.9"
  },
  "language_info": {
   "file_extension": ".jl",
   "mimetype": "application/julia",
   "name": "julia",
   "version": "1.10.3"
  }
 },
 "nbformat": 4,
 "nbformat_minor": 5
}
