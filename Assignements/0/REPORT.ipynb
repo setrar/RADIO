{
 "cells": [
  {
   "cell_type": "markdown",
   "id": "4d470e63-962d-427a-a9b1-90dec3686b5f",
   "metadata": {},
   "source": [
    "## Cascading several elements"
   ]
  },
  {
   "cell_type": "markdown",
   "id": "5a2147c4-ac37-4c0c-ba70-e8a5eb1d7dab",
   "metadata": {},
   "source": [
    "##### A receiver is made up of three main elements: a preamplifier, a mixer, and an IF amplifier with noise figures of 3, 6, and 10 dB.\n"
   ]
  },
  {
   "cell_type": "markdown",
   "id": "5f6e4f95-2db9-4e02-8cd8-cf95fd5a7519",
   "metadata": {},
   "source": [
    "---\n",
    "– If the overall gain of the receiver is 30 dB, and the IF amplifier gain is 10 dB, \n",
    "\n",
    "What is the minimum gain of the preamplifier to achieve an overall noise figure of no more that 5 dB?"
   ]
  },
  {
   "cell_type": "code",
   "execution_count": 1,
   "id": "93c9737d-46f9-42dc-b75e-e20c3785cc81",
   "metadata": {},
   "outputs": [
    {
     "name": "stdout",
     "output_type": "stream",
     "text": [
      "Optimized G1 in linear scale: 2.6315606874740136\n",
      "Optimized G1 in dB: 4.202133899076101\n"
     ]
    }
   ],
   "source": [
    "using Optim\n",
    "\n",
    "# Given parameters in dB\n",
    "NF_1_dB = 3\n",
    "NF_2_dB = 6\n",
    "NF_3_dB = 10\n",
    "NF_total_max_dB = 5\n",
    "G_IF_dB = 10\n",
    "G_overall_dB = 30\n",
    "\n",
    "# Convert dB to linear scale for noise figures and gains\n",
    "NF_1 = 10^(NF_1_dB / 10)\n",
    "NF_2 = 10^(NF_2_dB / 10)\n",
    "NF_3 = 10^(NF_3_dB / 10)\n",
    "NF_total_max = 10^(NF_total_max_dB / 10)\n",
    "G_IF = 10^(G_IF_dB / 10)\n",
    "G_overall = 10^(G_overall_dB / 10)\n",
    "\n",
    "# Function to calculate total noise figure for given G1 in linear scale\n",
    "function calculate_NF_total(G1_linear)\n",
    "    G_1_G_2 = G_overall / G_IF  # Total gain divided by IF amplifier gain gives product of G1 and G2\n",
    "    # Assuming G2 is fixed and we adjust G1, calculate total noise figure (linear scale)\n",
    "    NF_total = NF_1 + (NF_2 - 1)/G1_linear + (NF_3 - 1)/(G1_linear * G_1_G_2)\n",
    "    return NF_total\n",
    "end\n",
    "\n",
    "# Objective function to minimize: difference between calculated NF_total and target NF_total_max\n",
    "function objective_function(G1_linear)\n",
    "    NF_total = calculate_NF_total(G1_linear)\n",
    "    return (NF_total - NF_total_max)^2  # Squared difference for minimization\n",
    "end\n",
    "\n",
    "# Initial guess for G1_linear (since we don't have specific info, start with a reasonable guess)\n",
    "initial_guess = 10  # Linear scale\n",
    "\n",
    "# Use an optimization library to minimize the objective function and find optimal G1\n",
    "result = optimize(objective_function, 1, 1000)  # Adjust bounds (1, 1000) as needed based on expected G1 range\n",
    "\n",
    "# Extract the optimized G1 value\n",
    "G1_optimized_linear = Optim.minimizer(result)\n",
    "G1_optimized_dB = 10 * log10(G1_optimized_linear)\n",
    "\n",
    "println(\"Optimized G1 in linear scale: \", G1_optimized_linear)\n",
    "println(\"Optimized G1 in dB: \", G1_optimized_dB)\n"
   ]
  },
  {
   "cell_type": "markdown",
   "id": "74abe0b5-cbe0-4041-889f-ecdbf5f22b6e",
   "metadata": {},
   "source": [
    "--- \n",
    "– If its gain is set to this minimum, \n",
    "\n",
    "What would the system noise figure become if the noise figure of the IF amplifier is increased to 20 dB?"
   ]
  },
  {
   "cell_type": "code",
   "execution_count": 2,
   "id": "f32d7525-4da8-4146-b58d-5cd8d1cfdda6",
   "metadata": {},
   "outputs": [
    {
     "name": "stdout",
     "output_type": "stream",
     "text": [
      "New system noise figure with updated IF amplifier noise figure: 3.7882825438470857 dB\n"
     ]
    }
   ],
   "source": [
    "# Define given parameters\n",
    "NF_1_dB = 3  # Preamplifier noise figure in dB\n",
    "NF_2_dB = 6  # Mixer noise figure in dB\n",
    "NF_3_new_dB = 20  # Updated IF amplifier noise figure in dB\n",
    "G_overall_dB = 30  # Overall system gain in dB\n",
    "G_IF_dB = 10  # IF amplifier gain in dB\n",
    "\n",
    "# Convert dB to linear scale for noise figures and gains\n",
    "NF_1 = 10^(NF_1_dB / 10)\n",
    "NF_2 = 10^(NF_2_dB / 10)\n",
    "NF_3_new = 10^(NF_3_new_dB / 10)\n",
    "G_overall = 10^(G_overall_dB / 10)\n",
    "G_IF = 10^(G_IF_dB / 10)\n",
    "\n",
    "# Placeholder for the optimized G1 value in linear scale from previous optimization\n",
    "# Replace this with the actual value you found\n",
    "G1_optimized_linear = 10  # This is a placeholder, replace with actual optimized G1 value\n",
    "\n",
    "# Calculate G1 * G2 based on the overall gain and IF amplifier gain\n",
    "G_1_G_2 = G_overall / G_IF\n",
    "\n",
    "# Function to calculate the total noise figure with the updated NF_3\n",
    "function calculate_total_noise_figure(NF_1, NF_2, NF_3_new, G1, G_1_G_2)\n",
    "    # Total noise figure calculation using Friis formula\n",
    "    NF_total = NF_1 + (NF_2 - 1) / G1 + (NF_3_new - 1) / (G1 * G_1_G_2)\n",
    "    return 10 * log10(NF_total)  # Convert the total noise figure back to dB\n",
    "end\n",
    "\n",
    "# Calculate the new system noise figure with the updated IF amplifier noise figure\n",
    "NF_total_new_dB = calculate_total_noise_figure(NF_1, NF_2, NF_3_new, G1_optimized_linear, G_1_G_2)\n",
    "\n",
    "println(\"New system noise figure with updated IF amplifier noise figure: \", NF_total_new_dB, \" dB\")\n"
   ]
  },
  {
   "cell_type": "markdown",
   "id": "0e267829-9c1c-4535-b749-28b75a37afaf",
   "metadata": {},
   "source": [
    "## Link Budget: Example"
   ]
  },
  {
   "cell_type": "markdown",
   "id": "b68fad36-2800-44f3-be09-b24a610d1648",
   "metadata": {},
   "source": [
    "** Consider a GSM system with the following characteristics: \n",
    "- Carrier frequency fc = 900MHz,\n",
    "- Bandwidth B = 200kHz,\n",
    "- Operating temperature T = 300 K,\n",
    "- Antenna gains GTX = 8 dB and GRX = −2 dB,\n",
    "- Cable losses at TX LTX = 2 dB,\n",
    "- Receiver noise figure F = 7 dB.\n",
    "\n",
    "** The propagation characteristics are \n",
    "- The path loss exponent is n = 3.8,\n",
    "- the breakpoint distance is 10 m,\n",
    "- the fading margin is 10 dB.\n",
    "The required operating SNR is 8 dB, the desired range of coverage 2 km. "
   ]
  },
  {
   "cell_type": "markdown",
   "id": "26716e8f-8a7d-409c-a6d1-c3176a8edc7a",
   "metadata": {},
   "source": [
    "#### What is the minimum TX power?"
   ]
  },
  {
   "cell_type": "code",
   "execution_count": 1,
   "id": "b7e51868-61ff-431e-aff5-63c6c0cf55e6",
   "metadata": {},
   "outputs": [],
   "source": [
    "# Given parameters\n",
    "𝑓₍ = 900e6  # Carrier frequency in Hz\n",
    "B = 200e3   # Bandwidth in Hz\n",
    "T = 300     # Operating temperature in Kelvin\n",
    "GTX_dB = 8  # Transmitter antenna gain in dB\n",
    "GRX_dB = -2 # Receiver antenna gain in dB\n",
    "LTX_dB = 2  # Cable losses at transmitter in dB\n",
    "F_dB = 6.1    # Receiver noise figure in dB\n",
    "n = 3.8     # Path loss exponent\n",
    "d₀ = 10     # Breakpoint distance in meters\n",
    "dᵩ = 2000   # Desired range of coverage in meters\n",
    "Mf_dB = 10  # Fading margin in dB\n",
    "SNR_req_dB = 8;  # Required operating SNR in dB\n"
   ]
  },
  {
   "cell_type": "code",
   "execution_count": 2,
   "id": "7f19bd16-3758-4317-95db-f75f0ef76236",
   "metadata": {},
   "outputs": [
    {
     "name": "stdout",
     "output_type": "stream",
     "text": [
      "Minimum required TX power: 38.08428998065759 dBm\n"
     ]
    }
   ],
   "source": [
    "# Calculate path loss at the breakpoint distance (d₀) using the free-space path loss formula\n",
    "PL_d0_dB = 20 * log10(d₀) + 20 * log10(𝑓₍) - 147.55\n",
    "\n",
    "# Calculate total path loss at the desired distance (dᵩ)\n",
    "PL_dᵩ_dB = PL_d0_dB + 10 * n * log10(dᵩ / d₀)\n",
    "\n",
    "# Calculate noise power in dBm\n",
    "N_dBm = -174 + 10 * log10(B) + F_dB\n",
    "\n",
    "# Estimate the minimum required transmit power in dBm\n",
    "P_TX_min_dBm = SNR_req_dB + N_dBm + PL_dᵩ_dB + Mf_dB - GTX_dB - GRX_dB + LTX_dB\n",
    "\n",
    "println(\"Minimum required TX power: \", P_TX_min_dBm, \" dBm\")\n"
   ]
  },
  {
   "cell_type": "code",
   "execution_count": 3,
   "id": "88131e8b-a888-4ec4-b8ac-10706e03d9c2",
   "metadata": {},
   "outputs": [
    {
     "name": "stdout",
     "output_type": "stream",
     "text": [
      "Minimum TX power in watts: 6.4332288082620215\n"
     ]
    }
   ],
   "source": [
    "# Convert dBm to watts\n",
    "P_W = 10 ^ ((P_TX_min_dBm - 30) / 10)\n",
    "\n",
    "println(\"Minimum TX power in watts: \", P_W)\n"
   ]
  },
  {
   "cell_type": "code",
   "execution_count": null,
   "id": "ecbb2c2c-36f6-417b-a3df-66cbc00119b3",
   "metadata": {},
   "outputs": [],
   "source": []
  }
 ],
 "metadata": {
  "kernelspec": {
   "display_name": "Julia 1.9.3",
   "language": "julia",
   "name": "julia-1.9"
  },
  "language_info": {
   "file_extension": ".jl",
   "mimetype": "application/julia",
   "name": "julia",
   "version": "1.10.4"
  }
 },
 "nbformat": 4,
 "nbformat_minor": 5
}
