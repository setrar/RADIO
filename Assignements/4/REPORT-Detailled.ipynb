{
 "cells": [
  {
   "cell_type": "markdown",
   "id": "e5c60768-cbb1-4a45-ad7c-5ff3e9dd9c3e",
   "metadata": {},
   "source": [
    "&#x1F465; Group C:\n",
    "\n",
    "Manoranjani Navamani Kathiresan Kulanthaivel\n",
    "\n",
    "Brice Setra Robert\n"
   ]
  },
  {
   "cell_type": "markdown",
   "id": "0fe4568b-f1df-411e-9025-4396f92dbd35",
   "metadata": {},
   "source": [
    "### &#x1F4D1; Assignment 4: OAIBOX"
   ]
  },
  {
   "cell_type": "markdown",
   "id": "f57001fb-aa24-49f6-a690-e905b8f51f30",
   "metadata": {},
   "source": [
    "&#x1F518; 1. In this lab session we will do some experiments with the OAIBOX.\n",
    "\n",
    "Before starting, please create an account at https://dashboard.oaibox.com with your eurecom mail address.\n",
    "\n",
    "Please read the OAIBOX manual and in particular Labs 1, 2, 3, and 4 during the lab session. \n",
    "\n",
    "The instructor will change the parameters according tot he instruction and the students will read and document the measurements using the dashboard. \n",
    "\n",
    "Please also write a short interpretation of the results."
   ]
  },
  {
   "cell_type": "markdown",
   "id": "5dd9a72e-f479-4351-baa2-99129731a710",
   "metadata": {},
   "source": [
    "The labs are:\n",
    "- 2 - LAB-1: Changing the 5G NR bandwidth\n",
    "- 3 - LAB-2: Changing the 5G NR central frequency carrier\n",
    "- 4 - LAB-3: Changing the 5G NR TDD slot configuration\n",
    "- 5 - LAB-4: Changing the 5G NR Modulation and Coding Scheme"
   ]
  },
  {
   "cell_type": "markdown",
   "id": "0d9a8569-1d19-4359-b419-a71684e98b95",
   "metadata": {},
   "source": [
    "### Lab"
   ]
  },
  {
   "cell_type": "markdown",
   "id": "7dbbfe61-ae3f-41e9-b47c-5c04cdf6e78f",
   "metadata": {},
   "source": [
    "1.2.4.2 Connecting the Quectel using Linux (as an alternative to Windows)\n",
    "\n",
    "Step 1. Install dependencies:\n",
    "\n",
    "```powershell\n",
    "sudo apt install -y wget putty cmake build-essential iperf net-tools\n",
    "```\n",
    "\n",
    "Step 2. Download the Quectel Linux software from https://dashboard.oaibox.com Alternatively use the following command which will download the software to the homefolder:\n",
    "\n",
    "```powershell\n",
    "wget -o ~/Quectel_QConnectManager_Linux_V1.6.4.zip \\\n",
    "        https://api.oaibox.com/quectel/Quectel_QConnectManager_Linux_V1.6.4.zip\n",
    "```\n",
    "\n",
    "\n",
    "Step 3. Unzip the downloaded file on the home folder of the Linux Host\n",
    "\n",
    "```powershell\n",
    "unzip ~/Quectel_QConnectManager_Linux_V1.6.4.zip -d ~/Quectel_QConnectManager_Linux_V1.6.4 \\\n",
    "cd ~/Quectel_QConnectManager_Linux_V1.6.4\n",
    "```\n",
    "\n",
    "Step 4. Build the Quectel QConnectManager from sources:\n",
    "\n",
    "```powershell\n",
    "make\n",
    "```\n",
    "\n",
    "Step 5. Start the Quectel Connection Manager\n",
    "\n",
    "```powershell\n",
    "sudo ./quectel-CM -s oai\n",
    "```\n",
    "\n",
    "<img src=images/quectel-CM-linux-cmd.png width='50%' height='50%' > </img>"
   ]
  },
  {
   "cell_type": "markdown",
   "id": "c60bbed2-e258-427a-8320-ce4b080c627b",
   "metadata": {},
   "source": [
    "## Interacting with the Quectel's AT commands"
   ]
  },
  {
   "cell_type": "markdown",
   "id": "8a004e5f-9747-4160-ac36-52ee02bf2227",
   "metadata": {},
   "source": [
    "- [ ] On debian machines, install `minicom`\n",
    "\n",
    "```powershell\n",
    "apt install minicom\n",
    "```"
   ]
  },
  {
   "cell_type": "markdown",
   "id": "d4212eb0-ba49-449b-8a90-c945f0db9245",
   "metadata": {},
   "source": [
    "- [ ] Minicom usage\n",
    "\n",
    "```powershell\n",
    "sudo minicom -D /dev/ttyUSB3\n",
    "```"
   ]
  },
  {
   "cell_type": "markdown",
   "id": "a8601078-0890-4752-b24a-0f666572c848",
   "metadata": {},
   "source": [
    "| | | |\n",
    "|-|-|-|\n",
    "| <img src=images/at/AT-CFUN.png weight='' height='' > </img> | <img src=images/at/AT-COPS-carriers.png\t weight='' height='' > </img> | <img src=images/at/AT-COPS-nocarrier.png weight=''  > </img> |\n",
    "\n",
    "| | |\n",
    "|-|-|\n",
    "| <img src=images/at/AT-QUIT.png weight='' height='' > </img> | <img src=images/at/AT-HELP.png  weight='' height='' > </img> |"
   ]
  },
  {
   "cell_type": "markdown",
   "id": "eaff6948-571b-4420-9b15-621844ade211",
   "metadata": {},
   "source": [
    "### AT Commands\n",
    "\n",
    "The `AT+CFUN` command controls the functionality level of a modem:\n",
    "\n",
    "1. **`AT+CFUN=0`**: Sets the modem to minimum functionality mode, conserving power by disabling most functions and network connectivity.\n",
    "2. **`AT+CFUN=1`**: Sets the modem to full functionality mode, enabling all functions and network connectivity for normal operation.\n",
    "\n",
    "The AT command `AT+COPS=?` is used to query the available network operators in the vicinity of a mobile device. This command is part of the AT command set, which is used for controlling modems.\n",
    "\n",
    "When you send the `AT+COPS=?` command to a modem, it performs a network scan and returns a list of all the available operators that the device can see. The response includes information about each operator, typically formatted as a list of operator names or codes along with the type of network (e.g., GSM, UMTS).\n",
    "\n",
    "The general response format might look something like this:\n",
    "\n",
    "```powershell\n",
    "+COPS: (1,\"Operator1\",\"Operator1\",\"12345\",7),(2,\"Operator2\",\"Operator2\",\"23456\",0),...\n",
    "```\n",
    "\n",
    "In this response:\n",
    "- Each set of parentheses represents a different operator.\n",
    "- The first number in each set indicates the status of the operator (e.g., whether it is currently available or not).\n",
    "- The first string is the long alphanumeric name of the operator.\n",
    "- The second string is the short alphanumeric name of the operator.\n",
    "- The third string is the numeric code (MCC and MNC) of the operator.\n",
    "- The final number indicates the type of network (e.g., GSM, UMTS).\n",
    "\n",
    "Here’s a more detailed breakdown of a typical response entry:\n",
    "\n",
    "- **(1, \"Operator1\", \"Operator1\", \"12345\", 7)**\n",
    "  - `1`: Indicates the status of the operator (e.g., 1 might mean available, 2 might mean currently registered, etc.).\n",
    "  - `\"Operator1\"`: Long alphanumeric name of the operator.\n",
    "  - `\"Operator1\"`: Short alphanumeric name of the operator.\n",
    "  - `\"12345\"`: Numeric code representing the operator's Mobile Country Code (MCC) and Mobile Network Code (MNC).\n",
    "  - `7`: Type of network (e.g., 0 = GSM, 7 = LTE, etc.).\n",
    "\n",
    "Different devices and firmware versions might provide slightly different response formats, but the general structure will be similar. This command is particularly useful for applications that need to manage network connectivity dynamically, such as roaming scenarios or selecting between different operators manually.\n",
    "\n",
    "The AT command `AT+QNWPREFCFG=\"nr5g_band,41:77:78\"` is used to configure the preferred NR (New Radio, also known as 5G) frequency bands for a modem. This command is part of the extended AT command set provided by certain modem manufacturers, such as Quectel.\n",
    "\n",
    "Here’s a breakdown of the command and its components:\n",
    "\n",
    "- `AT+QNWPREFCFG`: This is the command prefix used to configure network preferences.\n",
    "- `\"nr5g_band\"`: This parameter specifies that the configuration is for NR (5G) frequency bands.\n",
    "- `41:77:78`: These are the specific NR frequency bands being configured as preferred bands.\n",
    "\n",
    "Each band number corresponds to a specific frequency range used for 5G communications. Here’s what the bands represent:\n",
    "\n",
    "- **Band 41**: This is a Time Division Duplex (TDD) band used for LTE and NR. It operates in the frequency range of approximately 2496 to 2690 MHz.\n",
    "- **Band 77**: This is a TDD band used exclusively for NR. It operates in the frequency range of approximately 3300 to 4200 MHz.\n",
    "- **Band 78**: This is another TDD band used for NR. It operates in the frequency range of approximately 3300 to 3800 MHz.\n",
    "\n",
    "By sending this command, you are instructing the modem to prefer connecting to 5G networks using these specified bands (41, 77, and 78). This can be useful in scenarios where certain bands provide better coverage, capacity, or performance in a given area. \n",
    "\n",
    "This configuration might be used to optimize the modem’s connectivity based on the network conditions and the available bands supported by the network operators in the region where the device is being used."
   ]
  },
  {
   "cell_type": "markdown",
   "id": "b3822e5d-52b3-4771-a04e-4fab7097d035",
   "metadata": {},
   "source": [
    "## 2.3 LAB-1: Changing the 5G NR bandwidth"
   ]
  },
  {
   "cell_type": "markdown",
   "id": "316f06f6-5957-40ed-9894-0c984de2fec1",
   "metadata": {},
   "source": [
    "- [ ] Table 2-3: Average values measured for the UE PHY layer parameters\n",
    "\n",
    "| Bandwidth | RSSI | RSRP | RSRQ | SINR | SNR | CQI | MCS | BLER |\n",
    "|-|-|-|-|-|-|-|-|-|\n",
    "| 40 MHz | -92.9 dBm |  -73 dBm | -11 dB | 23 dB | |  15 | 9 | |\n",
    "| 20 MHz | | | | | | | | |\n",
    "\n",
    "\n",
    "<img src=images/40MHz/40MHz-SNR_BLER.png width='20%' height='20%' > </img>\n",
    "<img src=images/40MHz/40MHz-qeng.png width='' height='' > </img>\n",
    "\n",
    "- [ ] Table 2-4: Throughput measured and theoretical bit rate values\n",
    "\n",
    "| Bandwidth |  Measured bit rate [DL] |  Theoretical bit rate [DL] |  Measured bit rate [UL] |  Theoretical bit rate [UL] |\n",
    "|-|-|-|-|-|\n",
    "| 40 MHz | 49.5 Mbps | 166 Mbps | 17.3 Mbps | 41 Mbps |\n",
    "| 20 MHz | 23.5 Mbps | | 8.1 Mbps | |\n",
    "\n",
    "\n",
    "Considering a 256QAM (Modulation order 8) and code rate 0.925, results in: \n",
    "> Spectral efficiency = 8 x 0.925 = 7.4063\n",
    "\n",
    ", which corresponds to MCS Index 27 in 3GPP 38.214 Table 5.1.3.1-2 (see Table 1-9).\n",
    "> Data carried in one Resource Block over one slot = 132 x 7.4063 = 978 bits in 0.5ms\n",
    "\n",
    "Considering the example where the 5G Bandwidth is 40 MHz which is the maximum bandwidth supported by the $\\text{OAIBOX}^{\\text{TM}}$ 40:\n",
    "> Number of Resource Blocks in 40MHz = 40,000 KHz / 360 KHz = 111\n",
    "\n",
    "    (106 are used, 4 RBs are used as guard (Figure 2-4).\n",
    "\n",
    "> Total Number of Slots available in one second = 1,000 ms / 0.5 ms = 2,000 slots\n",
    "\n",
    "Considering a TDD frame with DL/UL Ratio of 4:1\n",
    "> Downlink Slots = 1,600 and Uplink Slots = 400\n",
    "\n",
    "Considering the number of MIMO layers = 1\n",
    "> Max DL bit rate = (978 bits x 106 RBs x 1600 slots x 1 layers)/106 = 166 Mbps\n",
    "> \n",
    "> Max UL bit rate = (978 bits x 106 RBs x 400 slots x 1 layers)/ 106 = 41 Mbps\n",
    "\n"
   ]
  },
  {
   "cell_type": "markdown",
   "id": "37285582-028a-4ef7-88f6-e1f73aa5c707",
   "metadata": {},
   "source": [
    "- 40 MhZ, 16QAM\n",
    "\n",
    "```\n",
    "AT+QENG=\"servingcell\"\n",
    "+QENG: \"servingcell\",\"NOCONN\",\"NR5G-SA\",\"TDD\",001,01,BC614E,0,1,620640,78,6,-74,-11,30,1,-\n",
    "\n",
    "OK\n",
    "```\n",
    "\n",
    "| CONN Status | Radio Access | Duplex Mode  | MCC | MNC | Cell ID | Physical Cell ID | EARFCN | Bandwidth | RSRP | RSRQ | RSSI | SNR | Timing Advance | CQI | Transmit power |\n",
    "|-|-|-|-|-|-|-|-|-|-|-|-|-|-|-|-|\n",
    "| NOCONN | NR5G-SA | TDD | 001 | 01 | BC614E | 0 | 1 | 620640 | 78 | 6 | -74 | -11 | 30 | 1 | - |\n"
   ]
  },
  {
   "cell_type": "markdown",
   "id": "3f9671b6-fb34-4308-ae12-946a1831cf77",
   "metadata": {},
   "source": [
    "- 20 MhZ, 16QAM\n",
    "\n",
    "```\n",
    "AT+QENG=\"servingcell\"\n",
    "+QENG: \"servingcell\",\"NOCONN\",\"NR5G-SA\",\"TDD\",001,01,BC614E,0,1,620640,78,3,-72,-11,32,1,-\n",
    "\n",
    "OK\n",
    "```\n",
    "\n",
    "| CONN Status | Radio Access | Duplex Mode  | MCC | MNC | Cell ID | Physical Cell ID | EARFCN | Bandwidth | RSRP | RSRQ | RSSI | SNR | Timing Advance | CQI | Transmit power |\n",
    "|-|-|-|-|-|-|-|-|-|-|-|-|-|-|-|-|\n",
    "| NOCONN | NR5G-SA | TDD | 001 | 01 | BC614E | 0 | 1 | 620640 | 78 | 3 | -72 | -11 | 32 | 1 | - |\n"
   ]
  },
  {
   "cell_type": "markdown",
   "id": "f6d37356-7b69-4443-8004-26c7dbd068e8",
   "metadata": {},
   "source": [
    "- 40 MhZ, 256QAM\n",
    "\n",
    "```\n",
    "AT+QENG=\"servingcell\"\n",
    "+QENG: \"servingcell\",\"NOCONN\",\"NR5G-SA\",\"TDD\",001,01,BC614E,0,1,620640,78,3,-74,-11,30,1,7168\n",
    "\n",
    "OK\n",
    "```\n",
    "| CONN Status | Radio Access | Duplex Mode  | MCC | MNC | Cell ID | Physical Cell ID | EARFCN | Bandwidth | RSRP | RSRQ | RSSI | SNR | Timing Advance | CQI | Transmit power |\n",
    "|-|-|-|-|-|-|-|-|-|-|-|-|-|-|-|-|\n",
    "| NOCONN | NR5G-SA | TDD | 001 | 01 | BC614E | 0 | 1 | 620640 | 78 | 3 | -74 | -11 | 30 | 1 | 7168 |\n"
   ]
  },
  {
   "cell_type": "markdown",
   "id": "21e1478c-e069-4079-99b4-c3a090b570aa",
   "metadata": {},
   "source": [
    "\n",
    "The AT command `AT+QENG=\"servingcell\"` is used to query information about the current serving cell to which the modem is connected. This command is part of the extended AT command set provided by certain modem manufacturers, such as Quectel.\n",
    "\n",
    "Here's a detailed explanation of this command and its typical response:\n",
    "\n",
    "### Command Breakdown\n",
    "\n",
    "- **AT+QENG**: This is the command prefix for querying engineering mode information.\n",
    "- **\"servingcell\"**: This parameter specifies that the query is for information about the serving cell.\n",
    "\n",
    "### Typical Response\n",
    "\n",
    "The response to the `AT+QENG=\"servingcell\"` command provides detailed information about the current serving cell. The exact format of the response can vary depending on the modem and its firmware, but it generally includes information such as:\n",
    "\n",
    "1. **Cell ID**: The unique identifier of the cell.\n",
    "2. **MCC**: Mobile Country Code, identifying the country.\n",
    "3. **MNC**: Mobile Network Code, identifying the operator.\n",
    "4. **LAC/TAC**: Location Area Code (for GSM/UMTS) or Tracking Area Code (for LTE/5G).\n",
    "5. **Cell Type**: The type of the cell (e.g., GSM, UMTS, LTE, NR).\n",
    "6. **Signal Strength**: Various metrics indicating the signal quality (e.g., RSSI, RSRP, RSRQ, SINR).\n",
    "7. **Frequency Band**: The frequency band the cell is operating on.\n",
    "8. **Bandwidth**: The bandwidth of the cell.\n",
    "\n",
    "### Example Response\n",
    "\n",
    "An example response might look something like this (note that the exact format can vary):\n",
    "\n",
    "```\n",
    "+QENG: \"servingcell\",\"NOCONN\",\"LTE\",\"FDD\",310,260,12345678,82,3640,3,7,7,-98,-7,-65,12,20\n",
    "```\n",
    "\n",
    "In this example response:\n",
    "- **\"NOCONN\"**: Indicates the connection status (e.g., no connection, connected, etc.).\n",
    "- **\"LTE\"**: Indicates the radio access technology (LTE in this case).\n",
    "- **\"FDD\"**: Indicates the duplex mode (Frequency Division Duplex).\n",
    "- **310**: Mobile Country Code (MCC).\n",
    "- **260**: Mobile Network Code (MNC).\n",
    "- **12345678**: Cell ID.\n",
    "- **82**: Physical Cell ID.\n",
    "- **3640**: EARFCN (E-UTRA Absolute Radio Frequency Channel Number).\n",
    "- **3**: Bandwidth in MHz.\n",
    "- **7**: Reference Signal Received Power (RSRP).\n",
    "- **7**: Reference Signal Received Quality (RSRQ).\n",
    "- **-98**: Received Signal Strength Indicator (RSSI).\n",
    "- **-7**: Signal-to-Noise Ratio (SNR).\n",
    "- **-65**: Timing Advance.\n",
    "- **12**: CQI (Channel Quality Indicator).\n",
    "- **20**: Transmit power.\n",
    "\n",
    "### Interpretation\n",
    "\n",
    "- **Connection Status**: Indicates whether the device is currently connected to the cell.\n",
    "- **Radio Access Technology**: Shows the type of network the device is connected to (e.g., GSM, UMTS, LTE, NR).\n",
    "- **Signal Strength Metrics**: Provides various metrics on signal strength and quality, helping to assess the connection's performance.\n",
    "- **Cell Identifiers**: MCC, MNC, Cell ID, and Physical Cell ID uniquely identify the cell.\n",
    "- **Frequency and Bandwidth**: Indicate the operational parameters of the cell.\n",
    "\n",
    "This command is valuable for diagnosing network issues, optimizing network performance, and understanding the cellular environment of the device."
   ]
  },
  {
   "cell_type": "code",
   "execution_count": null,
   "id": "f93d4778-dc47-4a57-8c57-2fad8c6ca8c1",
   "metadata": {},
   "outputs": [],
   "source": []
  },
  {
   "cell_type": "markdown",
   "id": "3acbf161-2607-4bd5-aa18-ba9c1f752fca",
   "metadata": {},
   "source": [
    "# References"
   ]
  },
  {
   "cell_type": "markdown",
   "id": "dce54ad9-9d0e-4032-b57c-6b45932c87c0",
   "metadata": {},
   "source": [
    "\n",
    "<img src=images/DDDFU.png width='25%' height='25%' > </img>\n",
    "\n",
    "The TDD slot configuration with the following sequence: \"D D D F U.\" Let's break down this configuration in the context of the TDD frame and the 4:1 DL/UL ratio mentioned earlier:\n",
    "\n",
    "1. **TDD Slot Configuration**:\n",
    "   - **D**: Downlink slot\n",
    "   - **F**: Flexible slot\n",
    "   - **U**: Uplink slot\n",
    "\n",
    "2. **Slot Breakdown**:\n",
    "   - **D D D**: Three consecutive downlink slots.\n",
    "   - **F**: One flexible slot, which can be used either for downlink, uplink, or special subframe depending on the configuration and need.\n",
    "   - **U**: One uplink slot.\n",
    "\n",
    "3. **Relation to the 4:1 DL/UL Ratio**:\n",
    "   - In the provided configuration, out of the 5 main slots (D D D F U), we see:\n",
    "     - 3 slots are dedicated to downlink (D).\n",
    "     - 1 slot is dedicated to uplink (U).\n",
    "     - 1 slot is flexible (F), which can be used to balance the needs between downlink and uplink dynamically.\n",
    "   - Considering the flexible slot can potentially be used as a downlink slot, this configuration aligns with a 4:1 ratio. This means up to 4 slots (D D D F) could be used for downlink, and 1 slot (U) for uplink.\n",
    "\n",
    "4. **Operational Use**:\n",
    "   - This configuration shows a typical TDD setup where the majority of the slots are allocated for downlink to cater to higher downlink data demands.\n",
    "   - The flexible slot provides versatility, allowing the network to adapt to varying traffic conditions by adjusting its use as needed for downlink, uplink, or special subframe purposes.\n",
    "\n",
    "In summary, the image exemplifies a TDD slot configuration that effectively implements a 4:1 DL/UL ratio, where the majority of slots are used for downlink, with one slot specifically for uplink, and one slot flexible for dynamic use."
   ]
  },
  {
   "cell_type": "code",
   "execution_count": null,
   "id": "4e29e86c-4cb5-45d9-bc18-027eefb4d706",
   "metadata": {},
   "outputs": [],
   "source": []
  }
 ],
 "metadata": {
  "kernelspec": {
   "display_name": "Julia 1.9.3",
   "language": "julia",
   "name": "julia-1.9"
  },
  "language_info": {
   "file_extension": ".jl",
   "mimetype": "application/julia",
   "name": "julia",
   "version": "1.10.4"
  }
 },
 "nbformat": 4,
 "nbformat_minor": 5
}
