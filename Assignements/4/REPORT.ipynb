{
 "cells": [
  {
   "cell_type": "markdown",
   "id": "e5c60768-cbb1-4a45-ad7c-5ff3e9dd9c3e",
   "metadata": {},
   "source": [
    "&#x1F465; Group C:\n",
    "\n",
    "Manoranjani Navamani Kathiresan Kulanthaivel\n",
    "\n",
    "Brice Setra Robert\n"
   ]
  },
  {
   "cell_type": "markdown",
   "id": "0fe4568b-f1df-411e-9025-4396f92dbd35",
   "metadata": {},
   "source": [
    "### &#x1F4D1; Assignment 4: OAIBOX"
   ]
  },
  {
   "cell_type": "markdown",
   "id": "f57001fb-aa24-49f6-a690-e905b8f51f30",
   "metadata": {},
   "source": [
    "&#x1F518; 1. In this lab session we will do some experiments with the OAIBOX.\n",
    "\n",
    "Before starting, please create an account at https://dashboard.oaibox.com with your eurecom mail address.\n",
    "\n",
    "Please read the OAIBOX manual and in particular Labs 1, 2, 3, and 4 during the lab session. \n",
    "\n",
    "The instructor will change the parameters according tot he instruction and the students will read and document the measurements using the dashboard. \n",
    "\n",
    "Please also write a short interpretation of the results."
   ]
  },
  {
   "cell_type": "markdown",
   "id": "5dd9a72e-f479-4351-baa2-99129731a710",
   "metadata": {},
   "source": [
    "The labs are:\n",
    "- 2 - LAB-1: Changing the 5G NR bandwidth\n",
    "- 3 - LAB-2: Changing the 5G NR central frequency carrier\n",
    "- 4 - LAB-3: Changing the 5G NR TDD slot configura�on\n",
    "- 5 - LAB-4: Changing the 5G NR Modula�on and Coding Scheme"
   ]
  },
  {
   "cell_type": "markdown",
   "id": "0d9a8569-1d19-4359-b419-a71684e98b95",
   "metadata": {},
   "source": [
    "### Lab"
   ]
  },
  {
   "cell_type": "markdown",
   "id": "7dbbfe61-ae3f-41e9-b47c-5c04cdf6e78f",
   "metadata": {},
   "source": [
    "1.2.4.2 Connecting the Quectel using Linux (as an alternative to Windows)\n",
    "\n",
    "Step 1. Install dependencies:\n",
    "\n",
    "```\n",
    "sudo apt install -y wget putty cmake build-essential iperf net-tools\n",
    "```\n",
    "\n",
    "Step 2. Download the Quectel Linux software from https://dashboard.oaibox.com Alternatively use the following command which will download the software to the homefolder:\n",
    "\n",
    "```\n",
    "wget -o ~/Quectel_QConnectManager_Linux_V1.6.4.zip \\\n",
    "        https://api.oaibox.com/quectel/Quectel_QConnectManager_Linux_V1.6.4.zip\n",
    "```\n",
    "\n",
    "\n",
    "Step 3. Unzip the downloaded file on the home folder of the Linux Host\n",
    "\n",
    "```\n",
    "unzip ~/Quectel_QConnectManager_Linux_V1.6.4.zip -d ~/Quectel_QConnectManager_Linux_V1.6.4 \\\n",
    "cd ~/Quectel_QConnectManager_Linux_V1.6.4\n",
    "```\n",
    "\n",
    "Step 4. Build the Quectel QConnectManager from sources:\n",
    "\n",
    "```\n",
    "make\n",
    "```\n",
    "\n",
    "Step 5. Start the Quectel Connection Manager\n",
    "\n",
    "```\n",
    "sudo ./quectel-CM -s oai\n",
    "```\n",
    "\n",
    "<img src=images/quectel-CM-linux-cmd.png weight='' height='' > </img>"
   ]
  },
  {
   "cell_type": "markdown",
   "id": "5d0cd0ad-2ac0-49d0-960d-653841efcf0a",
   "metadata": {},
   "source": [
    "| Bandwidth | RSSI | RSRP | RSRQ | SINR | SNR | CQI | MCS | BLER |\n",
    "|-|-|-|-|-|-|-|-|-|\n",
    "| 40 MHz | | | | | | | | |\n",
    "| 20 MHz | | | | | | | | |\n",
    "\n",
    "\n",
    "Table 2-4: Throughput measured and theoretical bit rate values\n",
    "DL UL\n",
    "| Bandwidth |  Measured bit rate |  Theoretical bit rate |  Measured bit rate |  Theoretical bit rate  |\n",
    "|-|-|-|-|-|\n",
    "| 40 MHz | | | |\n",
    "| 20 MHz | | | |"
   ]
  },
  {
   "cell_type": "markdown",
   "id": "d8c1f03d-4466-4558-8156-24a60266be33",
   "metadata": {},
   "source": [
    "\n",
    "| Bandwidth | RSSI | RSRP | RSRQ | SINR | SNR | CQI | MCS | BLER |\n",
    "|-|-|-|-|-|-|-|-|-|\n",
    "| n77 | | | | | | | | |\n",
    "| n78 | | | | | | | | |\n"
   ]
  },
  {
   "cell_type": "markdown",
   "id": "eaff6948-571b-4420-9b15-621844ade211",
   "metadata": {},
   "source": [
    "# References\n",
    "\n",
    "The `AT+CFUN` command controls the functionality level of a modem:\n",
    "\n",
    "1. **`AT+CFUN=0`**: Sets the modem to minimum functionality mode, conserving power by disabling most functions and network connectivity.\n",
    "2. **`AT+CFUN=1`**: Sets the modem to full functionality mode, enabling all functions and network connectivity for normal operation."
   ]
  },
  {
   "cell_type": "code",
   "execution_count": null,
   "id": "7001599f-0e36-4b40-ad24-5d9b71f1c588",
   "metadata": {},
   "outputs": [],
   "source": []
  },
  {
   "cell_type": "code",
   "execution_count": null,
   "id": "54c0e98d-354a-4173-87da-ad35a250f308",
   "metadata": {},
   "outputs": [],
   "source": []
  }
 ],
 "metadata": {
  "kernelspec": {
   "display_name": "Julia 1.9.3",
   "language": "julia",
   "name": "julia-1.9"
  },
  "language_info": {
   "file_extension": ".jl",
   "mimetype": "application/julia",
   "name": "julia",
   "version": "1.10.4"
  }
 },
 "nbformat": 4,
 "nbformat_minor": 5
}
