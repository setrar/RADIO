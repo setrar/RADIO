{
 "cells": [
  {
   "cell_type": "markdown",
   "id": "e5c60768-cbb1-4a45-ad7c-5ff3e9dd9c3e",
   "metadata": {},
   "source": [
    "&#x1F465; Group C:\n",
    "\n",
    "Manoranjani Navamani Kathiresan Kulanthaivel\n",
    "\n",
    "Brice Setra Robert\n"
   ]
  },
  {
   "cell_type": "markdown",
   "id": "0fe4568b-f1df-411e-9025-4396f92dbd35",
   "metadata": {},
   "source": [
    "### &#x1F4D1; Assignment 4: OAIBOX"
   ]
  },
  {
   "cell_type": "markdown",
   "id": "f57001fb-aa24-49f6-a690-e905b8f51f30",
   "metadata": {},
   "source": [
    "&#x1F518; 1. In this lab session we will do some experiments with the OAIBOX.\n",
    "\n",
    "Before starting, please create an account at https://dashboard.oaibox.com with your eurecom mail address.\n",
    "\n",
    "Please read the OAIBOX manual and in particular Labs 1, 2, 3, and 4 during the lab session. \n",
    "\n",
    "The instructor will change the parameters according tot he instruction and the students will read and document the measurements using the dashboard. \n",
    "\n",
    "Please also write a short interpretation of the results."
   ]
  },
  {
   "cell_type": "markdown",
   "id": "5dd9a72e-f479-4351-baa2-99129731a710",
   "metadata": {},
   "source": [
    "The labs are:\n",
    "- 2 - LAB-1: Changing the 5G NR bandwidth\n",
    "- 3 - LAB-2: Changing the 5G NR central frequency carrier\n",
    "- 4 - LAB-3: Changing the 5G NR TDD slot configuration\n",
    "- 5 - LAB-4: Changing the 5G NR Modulation and Coding Scheme"
   ]
  },
  {
   "cell_type": "markdown",
   "id": "b3822e5d-52b3-4771-a04e-4fab7097d035",
   "metadata": {},
   "source": [
    "## 2.3 LAB-1: Changing the 5G NR bandwidth"
   ]
  },
  {
   "cell_type": "markdown",
   "id": "316f06f6-5957-40ed-9894-0c984de2fec1",
   "metadata": {},
   "source": [
    "- [ ] Table 2-3: Average values measured for the UE PHY layer parameters\n",
    "\n",
    "| Bandwidth | RSSI | RSRP | RSRQ | SINR | SNR | CQI | MCS | BLER |\n",
    "|-|-|-|-|-|-|-|-|-|\n",
    "| 40 MHz | -92.9 dBm |  -73 dBm | -11 dB | 23 dB | |  15 | 9 | |\n",
    "| 20 MHz | | | | | | | | |\n",
    "\n",
    "\n",
    "- [ ] Table 2-4: Throughput measured and theoretical bit rate values\n",
    "\n",
    "| Bandwidth |  Measured bit rate [DL] |  Theoretical bit rate [DL] |  Measured bit rate [UL] |  Theoretical bit rate [UL] |\n",
    "|-|-|-|-|-|\n",
    "| 40 MHz | 49.5 Mbps | 166 Mbps | 17.3 Mbps | 41 Mbps |\n",
    "| 20 MHz | 23.5 Mbps | | 8.1 Mbps | |\n",
    "\n"
   ]
  },
  {
   "cell_type": "markdown",
   "id": "51e891de-b1c1-4f53-b0ba-eef08f359362",
   "metadata": {},
   "source": [
    "***LAB-1: Suggested topics for discussion:***\n",
    "- Analise the impact of the 5G signal bandwidth on the measured DL and UL bitrates.\n",
    "- Based on the measured air interface parameters, classify the overall received 5G signal quality at UE.\n",
    "- Compute the theoretical Shannon capacity of the 5G link and explain the difference from the measured bit rate.\n",
    "- Compute the SNR considering the thermal noise floor for 20 MHz and 40 MHz bandwidth and compare it with the measured value.\n",
    "- Elaborate on the impact of the measured BLER on the 5G link throughput."
   ]
  },
  {
   "cell_type": "markdown",
   "id": "dc53330c-2038-4581-a8a9-3e94861268a4",
   "metadata": {},
   "source": [
    "## 3.3 LAB-2: Changing the 5G NR central frequency carrier"
   ]
  },
  {
   "cell_type": "markdown",
   "id": "9b9220bc-d1ec-44cf-81d1-9d93d5d326df",
   "metadata": {},
   "source": [
    "- [ ] Table 3-2: Average values measured for the UE PHY layer parameters for Band n77 and n78\n",
    "\n",
    "$$ \\text{Scenario 1 - LoS} $$\n",
    "| 3GPP Band | RSSI | RSRP | RSRQ | SINR | SNR | CQI | MCS | BLER |\n",
    "|-----------|------|------|------|------|-----|-----|-----|------|\n",
    "| n77       |      |      |      |      |     |     |     |      |\n",
    "| n78       |      |      |      |      |     |     |     |      |\n",
    "\n",
    "$$ \\text{Scenario 2 - LoS} $$\n",
    "| 3GPP Band | RSSI | RSRP | RSRQ | SINR | SNR | CQI | MCS | BLER |\n",
    "|-----------|------|------|------|------|-----|-----|-----|------|\n",
    "| n77       |      |      |      |      |     |     |     |      |\n",
    "| n78       |      |      |      |      |     |     |     |      |\n",
    "\n",
    "\n",
    "- [ ] Table 3-3: Throughput measured for Band n77 and n78\n",
    "\n",
    "$$ \\text{Scenario 1 - LoS} $$\n",
    "$$\\qquad \\qquad \\boxed{ \\text{Measured bit rate} }$$\n",
    "| 3GPP Band |  &#x1F4C9; [DL]        | &#x1F4C8; [UL]         |\n",
    "|-----------|------------------------|------------------------|\n",
    "| n77       |                        |                        |\n",
    "| n78       |                        |                        |\n",
    "\n",
    "$$ \\text{Scenario 2 - LoS} $$\n",
    "$$\\qquad \\qquad \\boxed{ \\text{Measured bit rate} }$$\n",
    "| 3GPP Band |  &#x1F4C9; [DL]        | &#x1F4C8; [UL]         |\n",
    "|-----------|------------------------|------------------------|\n",
    "| n77       |                        |                        |\n",
    "| n78       |                        |                        |\n"
   ]
  },
  {
   "cell_type": "markdown",
   "id": "56b03bd9-9b52-49fd-ae67-398f76dc4cfb",
   "metadata": {},
   "source": [
    "***LAB2: Suggested topics for discussion:***\n",
    "- Analyse the impact of the 3GPP Band on the 5G air interface KPIs.\n",
    "- Analyse the impact of the propagation scenario (LoS vs. NLoS) on the 5G air interface KPIs.\n",
    "- Based on the measured RSRP value at the UE which is indicated in the $\\text{OAIBOX}^{\\text{TM}}$ Dashboard, estimate the overall Path Loss in dB between the gNB and the UE (see Figure 3-2).\n",
    "- Using the 3GPP 36.873 UMa propagation model for LoS (Section 3.1.1.1), estimate the OAIBOXTM cell radius for 3GPP n77 and n78 central frequencies. Consider 10 dB transmit power in the gNB, cable losses of 1 dB, gNB antenna gain of 3 dB, UE antenna gain of 1 dB, a bandwidth of 40 MHz (required to compute the Thermal Noise Floor – equation (3.4), UE NF of 5 dB and a target SNR of 10 dB.\n",
    "- Optional: Using a spectrum analyser (see Figure 3-3) measure the central frequency and bandwidth of 5G radio signals in bands n77 and n78. Discuss the results."
   ]
  },
  {
   "cell_type": "markdown",
   "id": "303cdec0-3e1f-435c-8dd2-5274e17d03a9",
   "metadata": {},
   "source": [
    "## 4.3 LAB-3: Changing the 5G NR TDD slot configuration"
   ]
  },
  {
   "cell_type": "markdown",
   "id": "b972a87c-9892-46ff-8078-17c8ae1b5a9d",
   "metadata": {},
   "source": [
    "- [ ] Table 4-1: Average values measured for different TDD configurations\n",
    "$$\\qquad \\qquad \\qquad \\qquad \\qquad \\qquad \\boxed{  \\qquad \\qquad \\qquad \\text{DL throughput}  \\qquad  \\qquad \\qquad } \\boxed{\\qquad  \\qquad \\qquad  \\text{UL throughput} \\qquad \\qquad \\qquad }$$\n",
    "\n",
    "| TDD configuration | Measured bit rate [DL] | Theoretical bit rate [DL] | Measured bit rate [UL] | Theoretical bit rate [UL] |\n",
    "|-------------------|------------------------|---------------------------|------------------------|---------------------------|\n",
    "| 3-1-1 (&#x1F133;DD&#x1F135;&#x1F144;) [DL oriented] |                        |                        |                        |                        |\n",
    "| 2-1-2 (DDFUU)   [balanced]  |                        |                        |                        |                        |\n",
    "\n",
    "\n"
   ]
  },
  {
   "cell_type": "markdown",
   "id": "df16635e-f3cf-43e4-8441-2dbbda520f27",
   "metadata": {},
   "source": [
    "***LAB-3: Suggested topic for discussion:***\n",
    "- Analise the impact of the TDD configuration on the DL and UL throughput."
   ]
  },
  {
   "cell_type": "markdown",
   "id": "af2ffa02-817d-42c7-9ee9-1bffe6b50324",
   "metadata": {},
   "source": [
    "## 5.3 LAB-4: Changing the 5G NR Modulation and Coding Scheme"
   ]
  },
  {
   "cell_type": "markdown",
   "id": "701ffb53-ba40-4099-9157-22a9372e500a",
   "metadata": {},
   "source": [
    "- [ ] Table 5-1: Measured DL and UL throughputs vs Modulation Order vs Scenario\n",
    "\n",
    "$$ \\text{Scenario 1 - LoS} $$\n",
    "| Modulation Order (DL , UL) | Measured [DL] bit rate | Measured [UL] bit rate  |\n",
    "|----------------------------|------------------------|-------------------------|\n",
    "| (QPSK , QPSK)              |                        |                         |\n",
    "| (16QAM , 16QAM)            |                        |                         |\n",
    "| (64QAM , 64 QAM)           |                        |                         |\n",
    "| (256QAM , 256QAM)          |                        |                         |\n",
    "\n",
    "$$ \\text{Scenario 2 - NLoS} $$\n",
    "| Modulation Order (DL , UL) | Measured [DL] bit rate | Measured [UL] bit rate  |\n",
    "|----------------------------|------------------------|-------------------------|\n",
    "| (QPSK , QPSK)              |                        |                         |\n",
    "| (16QAM , 16QAM)            |                        |                         |\n",
    "| (64QAM , 64 QAM)           |                        |                         |\n",
    "| (256QAM , 256QAM)          |                        |                         |\n",
    "\n",
    "- [ ] Table 5-2: Measured DL and UL spectrum efficiency\n",
    "\n",
    "$$ \\text{Scenario 1 - LoS} $$\n",
    "| Modulation Order (DL , UL) | DL spectrum efficiency (b/s/Hz) | UL spectrum efficiency (b/s/Hz)  |\n",
    "|----------------------------|---------------------------------|----------------------------------|\n",
    "| (QPSK , QPSK)              |                                 |                                  |\n",
    "| (16QAM , 16QAM)            |                                 |                                  |\n",
    "| (64QAM , 64 QAM)           |                                 |                                  |\n",
    "| (256QAM , 256QAM)          |                                 |                                  |\n",
    "\n",
    "$$ \\text{Scenario 2 - LoS} $$\n",
    "| Modulation Order (DL , UL) | DL spectrum efficiency (b/s/Hz) | UL spectrum efficiency (b/s/Hz)  |\n",
    "|----------------------------|---------------------------------|----------------------------------|\n",
    "| (QPSK , QPSK)              |                                 |                                  |\n",
    "| (16QAM , 16QAM)            |                                 |                                  |\n",
    "| (64QAM , 64 QAM)           |                                 |                                  |\n",
    "| (256QAM , 256QAM)          |                                 |                                  |\n",
    "\n"
   ]
  },
  {
   "cell_type": "markdown",
   "id": "feb968e5-7817-44c3-8296-b2009cb1bb42",
   "metadata": {},
   "source": [
    "***LAB-4: Suggested topics for discussion:***\n",
    "- Analize the impact of the Modulation Order on the spectrum efficiency and measured bit rate. Explain why in some scenarios, a 256-QAM modulation order may not be possible.\n",
    "- Analize the impact of the propagation scenario (LoS vs. NLoS) on the measured bit rate considering the adaptative modulation and coding scheme."
   ]
  },
  {
   "cell_type": "markdown",
   "id": "3acbf161-2607-4bd5-aa18-ba9c1f752fca",
   "metadata": {},
   "source": [
    "# References"
   ]
  },
  {
   "cell_type": "code",
   "execution_count": null,
   "id": "4e29e86c-4cb5-45d9-bc18-027eefb4d706",
   "metadata": {},
   "outputs": [],
   "source": []
  }
 ],
 "metadata": {
  "kernelspec": {
   "display_name": "Julia 1.9.3",
   "language": "julia",
   "name": "julia-1.9"
  },
  "language_info": {
   "file_extension": ".jl",
   "mimetype": "application/julia",
   "name": "julia",
   "version": "1.10.4"
  }
 },
 "nbformat": 4,
 "nbformat_minor": 5
}
