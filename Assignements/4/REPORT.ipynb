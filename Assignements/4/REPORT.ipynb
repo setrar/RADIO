{
 "cells": [
  {
   "cell_type": "markdown",
   "id": "e5c60768-cbb1-4a45-ad7c-5ff3e9dd9c3e",
   "metadata": {},
   "source": [
    "&#x1F465; Group C:\n",
    "\n",
    "Manoranjani Navamani Kathiresan Kulanthaivel\n",
    "\n",
    "Brice Setra Robert\n"
   ]
  },
  {
   "cell_type": "markdown",
   "id": "0fe4568b-f1df-411e-9025-4396f92dbd35",
   "metadata": {},
   "source": [
    "### &#x1F4D1; Assignment 4: OAIBOX"
   ]
  },
  {
   "cell_type": "markdown",
   "id": "f57001fb-aa24-49f6-a690-e905b8f51f30",
   "metadata": {},
   "source": [
    "&#x1F518; 1. In this lab session we will do some experiments with the OAIBOX.\n",
    "\n",
    "Before starting, please create an account at https://dashboard.oaibox.com with your eurecom mail address.\n",
    "\n",
    "Please read the OAIBOX manual and in particular Labs 1, 2, 3, and 4 during the lab session. \n",
    "\n",
    "The instructor will change the parameters according tot he instruction and the students will read and document the measurements using the dashboard. \n",
    "\n",
    "Please also write a short interpretation of the results."
   ]
  },
  {
   "cell_type": "markdown",
   "id": "5dd9a72e-f479-4351-baa2-99129731a710",
   "metadata": {},
   "source": [
    "The labs are:\n",
    "- 2 - LAB-1: Changing the 5G NR bandwidth\n",
    "- 3 - LAB-2: Changing the 5G NR central frequency carrier\n",
    "- 4 - LAB-3: Changing the 5G NR TDD slot configura�on\n",
    "- 5 - LAB-4: Changing the 5G NR Modula�on and Coding Scheme"
   ]
  },
  {
   "cell_type": "markdown",
   "id": "0d9a8569-1d19-4359-b419-a71684e98b95",
   "metadata": {},
   "source": [
    "### Lab"
   ]
  },
  {
   "cell_type": "markdown",
   "id": "7dbbfe61-ae3f-41e9-b47c-5c04cdf6e78f",
   "metadata": {},
   "source": [
    "1.2.4.2 Connecting the Quectel using Linux (as an alternative to Windows)\n",
    "\n",
    "Step 1. Install dependencies:\n",
    "\n",
    "```\n",
    "sudo apt install -y wget putty cmake build-essential iperf net-tools\n",
    "```\n",
    "\n",
    "Step 2. Download the Quectel Linux software from https://dashboard.oaibox.com Alternatively use the following command which will download the software to the homefolder:\n",
    "\n",
    "```\n",
    "wget -o ~/Quectel_QConnectManager_Linux_V1.6.4.zip \\\n",
    "        https://api.oaibox.com/quectel/Quectel_QConnectManager_Linux_V1.6.4.zip\n",
    "```\n",
    "\n",
    "\n",
    "Step 3. Unzip the downloaded file on the home folder of the Linux Host\n",
    "\n",
    "```\n",
    "unzip ~/Quectel_QConnectManager_Linux_V1.6.4.zip -d ~/Quectel_QConnectManager_Linux_V1.6.4 \\\n",
    "cd ~/Quectel_QConnectManager_Linux_V1.6.4\n",
    "```\n",
    "\n",
    "Step 4. Build the Quectel QConnectManager from sources:\n",
    "\n",
    "```\n",
    "make\n",
    "```\n",
    "\n",
    "Step 5. Start the Quectel Connection Manager\n",
    "\n",
    "```\n",
    "sudo ./quectel-CM -s oai\n",
    "```\n",
    "\n",
    "<img src=images/quectel-CM-linux-cmd.png weight='' height='' > </img>"
   ]
  },
  {
   "cell_type": "markdown",
   "id": "5d0cd0ad-2ac0-49d0-960d-653841efcf0a",
   "metadata": {},
   "source": [
    "| Bandwidth | RSSI | RSRP | RSRQ | SINR | SNR | CQI | MCS | BLER |\n",
    "|-|-|-|-|-|-|-|-|-|\n",
    "| 40 MHz | | | | | | | | |\n",
    "| 20 MHz | | | | | | | | |\n",
    "\n",
    "\n",
    "Table 2-4: Throughput measured and theoretical bit rate values\n",
    "DL UL\n",
    "| Bandwidth |  Measured bit rate |  Theoretical bit rate |  Measured bit rate |  Theoretical bit rate  |\n",
    "|-|-|-|-|-|\n",
    "| 40 MHz | | | |\n",
    "| 20 MHz | | | |"
   ]
  },
  {
   "cell_type": "markdown",
   "id": "d8c1f03d-4466-4558-8156-24a60266be33",
   "metadata": {},
   "source": [
    "\n",
    "| Bandwidth | RSSI | RSRP | RSRQ | SINR | SNR | CQI | MCS | BLER |\n",
    "|-|-|-|-|-|-|-|-|-|\n",
    "| n77 | | | | | | | | |\n",
    "| n78 | | | | | | | | |\n"
   ]
  },
  {
   "cell_type": "markdown",
   "id": "c60bbed2-e258-427a-8320-ce4b080c627b",
   "metadata": {},
   "source": [
    "## Interacting with the Quectel's AT commands"
   ]
  },
  {
   "cell_type": "markdown",
   "id": "8a004e5f-9747-4160-ac36-52ee02bf2227",
   "metadata": {},
   "source": [
    "- [ ] On debian machines, install `minicom`\n",
    "\n",
    "```\n",
    "apt install minicom\n",
    "```"
   ]
  },
  {
   "cell_type": "markdown",
   "id": "d4212eb0-ba49-449b-8a90-c945f0db9245",
   "metadata": {},
   "source": [
    "- [ ] Minicom usage\n",
    "```\n",
    "sudo minicom -D /dev/ttyUSB3\n",
    "```"
   ]
  },
  {
   "cell_type": "markdown",
   "id": "a8601078-0890-4752-b24a-0f666572c848",
   "metadata": {},
   "source": [
    "| | | | |\n",
    "|-|-|-|-|\n",
    "| <img src=images/at/AT-CFUN.png weight='' height='' > </img> | <img src=images/at/AT-COPS-carriers.png\t weight='' height='' > </img> | <img src=images/at/AT-COPS-nocarrier.png weight='' height='' > </img> | <img src=images/at/AT-HELP.png  weight='' height='' > </img> |"
   ]
  },
  {
   "cell_type": "markdown",
   "id": "eaff6948-571b-4420-9b15-621844ade211",
   "metadata": {},
   "source": [
    "### AT Commands\n",
    "\n",
    "The `AT+CFUN` command controls the functionality level of a modem:\n",
    "\n",
    "1. **`AT+CFUN=0`**: Sets the modem to minimum functionality mode, conserving power by disabling most functions and network connectivity.\n",
    "2. **`AT+CFUN=1`**: Sets the modem to full functionality mode, enabling all functions and network connectivity for normal operation.\n",
    "\n",
    "The AT command `AT+COPS=?` is used to query the available network operators in the vicinity of a mobile device. This command is part of the AT command set, which is used for controlling modems.\n",
    "\n",
    "When you send the `AT+COPS=?` command to a modem, it performs a network scan and returns a list of all the available operators that the device can see. The response includes information about each operator, typically formatted as a list of operator names or codes along with the type of network (e.g., GSM, UMTS).\n",
    "\n",
    "The general response format might look something like this:\n",
    "\n",
    "```powershell\n",
    "+COPS: (1,\"Operator1\",\"Operator1\",\"12345\",7),(2,\"Operator2\",\"Operator2\",\"23456\",0),...\n",
    "```\n",
    "\n",
    "In this response:\n",
    "- Each set of parentheses represents a different operator.\n",
    "- The first number in each set indicates the status of the operator (e.g., whether it is currently available or not).\n",
    "- The first string is the long alphanumeric name of the operator.\n",
    "- The second string is the short alphanumeric name of the operator.\n",
    "- The third string is the numeric code (MCC and MNC) of the operator.\n",
    "- The final number indicates the type of network (e.g., GSM, UMTS).\n",
    "\n",
    "Here’s a more detailed breakdown of a typical response entry:\n",
    "\n",
    "- **(1, \"Operator1\", \"Operator1\", \"12345\", 7)**\n",
    "  - `1`: Indicates the status of the operator (e.g., 1 might mean available, 2 might mean currently registered, etc.).\n",
    "  - `\"Operator1\"`: Long alphanumeric name of the operator.\n",
    "  - `\"Operator1\"`: Short alphanumeric name of the operator.\n",
    "  - `\"12345\"`: Numeric code representing the operator's Mobile Country Code (MCC) and Mobile Network Code (MNC).\n",
    "  - `7`: Type of network (e.g., 0 = GSM, 7 = LTE, etc.).\n",
    "\n",
    "Different devices and firmware versions might provide slightly different response formats, but the general structure will be similar. This command is particularly useful for applications that need to manage network connectivity dynamically, such as roaming scenarios or selecting between different operators manually.\n",
    "\n",
    "The AT command `AT+QNWPREFCFG=\"nr5g_band,41:77:78\"` is used to configure the preferred NR (New Radio, also known as 5G) frequency bands for a modem. This command is part of the extended AT command set provided by certain modem manufacturers, such as Quectel.\n",
    "\n",
    "Here’s a breakdown of the command and its components:\n",
    "\n",
    "- `AT+QNWPREFCFG`: This is the command prefix used to configure network preferences.\n",
    "- `\"nr5g_band\"`: This parameter specifies that the configuration is for NR (5G) frequency bands.\n",
    "- `41:77:78`: These are the specific NR frequency bands being configured as preferred bands.\n",
    "\n",
    "Each band number corresponds to a specific frequency range used for 5G communications. Here’s what the bands represent:\n",
    "\n",
    "- **Band 41**: This is a Time Division Duplex (TDD) band used for LTE and NR. It operates in the frequency range of approximately 2496 to 2690 MHz.\n",
    "- **Band 77**: This is a TDD band used exclusively for NR. It operates in the frequency range of approximately 3300 to 4200 MHz.\n",
    "- **Band 78**: This is another TDD band used for NR. It operates in the frequency range of approximately 3300 to 3800 MHz.\n",
    "\n",
    "By sending this command, you are instructing the modem to prefer connecting to 5G networks using these specified bands (41, 77, and 78). This can be useful in scenarios where certain bands provide better coverage, capacity, or performance in a given area. \n",
    "\n",
    "This configuration might be used to optimize the modem’s connectivity based on the network conditions and the available bands supported by the network operators in the region where the device is being used."
   ]
  },
  {
   "cell_type": "code",
   "execution_count": null,
   "id": "7001599f-0e36-4b40-ad24-5d9b71f1c588",
   "metadata": {},
   "outputs": [],
   "source": []
  },
  {
   "cell_type": "code",
   "execution_count": null,
   "id": "54c0e98d-354a-4173-87da-ad35a250f308",
   "metadata": {},
   "outputs": [],
   "source": []
  }
 ],
 "metadata": {
  "kernelspec": {
   "display_name": "Julia 1.9.3",
   "language": "julia",
   "name": "julia-1.9"
  },
  "language_info": {
   "file_extension": ".jl",
   "mimetype": "application/julia",
   "name": "julia",
   "version": "1.10.4"
  }
 },
 "nbformat": 4,
 "nbformat_minor": 5
}
